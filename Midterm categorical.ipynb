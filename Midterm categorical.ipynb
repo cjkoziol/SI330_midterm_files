{
 "cells": [
  {
   "cell_type": "code",
   "execution_count": 1,
   "metadata": {},
   "outputs": [
    {
     "data": {
      "text/plain": [
       "7400"
      ]
     },
     "execution_count": 1,
     "metadata": {},
     "output_type": "execute_result"
    }
   ],
   "source": [
    "import pandas as pd\n",
    "import numpy as np\n",
    "\n",
    "point_values_syllabus = [15000, 11600, 10200, 9600, 9000, 8500, 8000, 7000, 6700, 6400, 0]\n",
    "letters = ['A+', 'A', 'A-', 'B+', 'B', 'B-', 'C+', 'C', 'C-', 'E']\n",
    "letter_grades = pd.CategoricalDtype(letters, ordered = True)\n",
    "\n",
    "grades = {'HW': 4000, 'Bonus': 800, 'Lecture': 800, 'Midterm': 800, 'Final': 800, 'Misc': 200}\n",
    "sum(grades.values())"
   ]
  },
  {
   "cell_type": "code",
   "execution_count": 11,
   "metadata": {},
   "outputs": [],
   "source": [
    "%matplotlib inline\n",
    "n_student = 60\n",
    "hw = np.random.normal(4200, 500, n_student)\n",
    "bonus = np.random.normal(500, 300, n_student)\n",
    "lecture = np.random.normal(800, 200, n_student)\n",
    "midterm = np.random.normal(850, 100, n_student)\n",
    "final = np.random.normal(1200, 300, n_student)\n",
    "labs = np.random.normal(2400, 100, n_student)\n",
    "misc = np.random.normal(180, 20, n_student)\n",
    "\n",
    "data = {'HW': hw, 'Bonus': bonus, 'Lecture': lecture, 'Midterm': midterm, 'Final': final,'Lab': labs,'Misc':misc}\n",
    "grades = pd.DataFrame(data)\n",
    "totals = grades.agg(np.sum, axis=1)\n"
   ]
  },
  {
   "cell_type": "code",
   "execution_count": 12,
   "metadata": {},
   "outputs": [
    {
     "data": {
      "text/plain": [
       "0      [9600, 10200)\n",
       "1      [9600, 10200)\n",
       "2      [9600, 10200)\n",
       "3     [10200, 11600)\n",
       "4     [10200, 11600)\n",
       "5      [9600, 10200)\n",
       "6       [9000, 9600)\n",
       "7     [10200, 11600)\n",
       "8     [10200, 11600)\n",
       "9     [10200, 11600)\n",
       "10    [10200, 11600)\n",
       "11     [9600, 10200)\n",
       "12      [9000, 9600)\n",
       "13     [9600, 10200)\n",
       "14    [10200, 11600)\n",
       "15      [9000, 9600)\n",
       "16    [10200, 11600)\n",
       "17      [8500, 9000)\n",
       "18    [10200, 11600)\n",
       "19    [10200, 11600)\n",
       "20    [10200, 11600)\n",
       "21      [9000, 9600)\n",
       "22     [9600, 10200)\n",
       "23      [9000, 9600)\n",
       "24     [9600, 10200)\n",
       "25    [10200, 11600)\n",
       "26      [8500, 9000)\n",
       "27    [10200, 11600)\n",
       "28      [9000, 9600)\n",
       "29      [9000, 9600)\n",
       "30    [10200, 11600)\n",
       "31     [9600, 10200)\n",
       "32    [10200, 11600)\n",
       "33     [9600, 10200)\n",
       "34     [9600, 10200)\n",
       "35    [10200, 11600)\n",
       "36     [9600, 10200)\n",
       "37     [9600, 10200)\n",
       "38    [10200, 11600)\n",
       "39      [9000, 9600)\n",
       "40    [10200, 11600)\n",
       "41    [10200, 11600)\n",
       "42    [10200, 11600)\n",
       "43      [9000, 9600)\n",
       "44    [10200, 11600)\n",
       "45    [10200, 11600)\n",
       "46     [9600, 10200)\n",
       "47     [9600, 10200)\n",
       "48    [10200, 11600)\n",
       "49    [10200, 11600)\n",
       "50     [9600, 10200)\n",
       "51    [11600, 15000)\n",
       "52    [10200, 11600)\n",
       "53    [10200, 11600)\n",
       "54    [11600, 15000)\n",
       "55     [9600, 10200)\n",
       "56      [9000, 9600)\n",
       "57      [9000, 9600)\n",
       "58    [10200, 11600)\n",
       "59     [9600, 10200)\n",
       "dtype: category\n",
       "Categories (10, interval[int64]): [[0, 6400) < [6400, 6700) < [6700, 7000) < [7000, 8000) ... [9000, 9600) < [9600, 10200) < [10200, 11600) < [11600, 15000)]"
      ]
     },
     "execution_count": 12,
     "metadata": {},
     "output_type": "execute_result"
    }
   ],
   "source": [
    "vals = pd.cut(totals, point_values_syllabus[::-1], right=False)\n",
    "vals"
   ]
  },
  {
   "cell_type": "code",
   "execution_count": 15,
   "metadata": {},
   "outputs": [
    {
     "data": {
      "text/plain": [
       "<matplotlib.axes._subplots.AxesSubplot at 0x7f3053b93898>"
      ]
     },
     "execution_count": 15,
     "metadata": {},
     "output_type": "execute_result"
    },
    {
     "data": {
      "image/png": "[encoded data removed]",
      "text/plain": [
       "<Figure size 432x288 with 1 Axes>"
      ]
     },
     "metadata": {
      "needs_background": "light"
     },
     "output_type": "display_data"
    }
   ],
   "source": [
    "vals.cat.rename_categories(letter_grades.categories[::-1]).value_counts(sort=False, normalize=True).plot(kind='bar')"
   ]
  },
  {
   "cell_type": "code",
   "execution_count": null,
   "metadata": {},
   "outputs": [],
   "source": []
  }
 ],
 "metadata": {
  "kernelspec": {
   "display_name": "Python 3",
   "language": "python",
   "name": "python3"
  },
  "language_info": {
   "codemirror_mode": {
    "name": "ipython",
    "version": 3
   },
   "file_extension": ".py",
   "mimetype": "text/x-python",
   "name": "python",
   "nbconvert_exporter": "python",
   "pygments_lexer": "ipython3",
   "version": "3.7.3"
  }
 },
 "nbformat": 4,
 "nbformat_minor": 4
}
