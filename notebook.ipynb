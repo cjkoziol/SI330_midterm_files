{
  "cells": [
    {
      "cell_type": "markdown",
      "source": "### Homework 7 and Midterm Data Set\n\nThe dataset you will be working with contains 3 separate csv files. Please feel free to duplicate this project into your own space by creating an account linked to your existing GitHub account (or via another login method of your choice).\n\n`EXAM_DATA_COMPANY.csv` contains information about various companies including an address, its market capitalization (or total dollar market value of a company's outstanding shares of stock), the country (and state/province) where this company is headquartered and its corresponding time zone, and the stock ticker symbol.\n\n`EXAM_DATA_PERSON.csv` contains information about employees working at various companies. It includes personal identifying information such as name, email, address, and country of residence (and some demographic data, namely gender). Financial-related information includes their social security number (SSN) and their payroll accounts (which are paid out using Bitcoin, hence the bitcoin addresses). Company-related information includes the employees official start date/time (when they were entered into the system), and the department in which they work. \n\n`EXAM_DATA_TRANSACT.csv` includes a list of transactions (or rather reimbursments) claimed by various individual's accounts. It includes details such as the time the transaction took place, including the time zone and corresponding Coordinated Universal Time (UTC) offset (side note: these do not match real life; just use what is given). The purchase category and name of the application used to conduct the transaction are also listed.",
      "metadata": {
        "tags": [],
        "cell_id": "00000-6c58a4d8-3903-48ef-bf0e-dbc6eb98594c",
        "deepnote_cell_type": "markdown"
      }
    },
    {
      "cell_type": "code",
      "metadata": {
        "tags": [],
        "cell_id": "00000-aeef9a0e-4c06-40fa-80e7-96f482d06048",
        "deepnote_to_be_reexecuted": false,
        "source_hash": "32b767ab",
        "execution_millis": 20,
        "execution_start": 1615543555212,
        "deepnote_cell_type": "code"
      },
      "source": "import pandas as pd\nimport numpy as np\n\ncompany_df = pd.read_csv('EXAM_DATA_COMPANY.csv')\nperson_df = pd.read_csv('EXAM_DATA_PERSON.csv')\ntransact_df = pd.read_csv('EXAM_DATA_TRANSACT.csv')",
      "execution_count": null,
      "outputs": []
    },
    {
      "cell_type": "code",
      "metadata": {
        "tags": [],
        "cell_id": "00002-a53e810a-0d49-413d-a5b0-8837c5090db6",
        "deepnote_to_be_reexecuted": false,
        "source_hash": "b6e1fc7f",
        "execution_millis": 21,
        "execution_start": 1615543555282,
        "deepnote_cell_type": "code"
      },
      "source": "company_df",
      "execution_count": null,
      "outputs": [
        {
          "output_type": "execute_result",
          "execution_count": 2,
          "data": {
            "application/vnd.deepnote.dataframe.v2+json": {
              "row_count": 200,
              "column_count": 9,
              "columns": [
                {
                  "name": "address",
                  "dtype": "object",
                  "stats": {
                    "unique_count": 200,
                    "nan_count": 0,
                    "categories": [
                      {
                        "name": "74409 La Follette Hill",
                        "count": 1
                      },
                      {
                        "name": "4 Kropf Crossing",
                        "count": 1
                      },
                      {
                        "name": "198 others",
                        "count": 198
                      }
                    ]
                  }
                },
                {
                  "name": "company",
                  "dtype": "object",
                  "stats": {
                    "unique_count": 198,
                    "nan_count": 0,
                    "categories": [
                      {
                        "name": "Koepp Inc",
                        "count": 2
                      },
                      {
                        "name": "Reichert Inc",
                        "count": 2
                      },
                      {
                        "name": "196 others",
                        "count": 196
                      }
                    ]
                  }
                },
                {
                  "name": "market_cap",
                  "dtype": "object",
                  "stats": {
                    "unique_count": 159,
                    "nan_count": 35,
                    "categories": [
                      {
                        "name": "$1.24B",
                        "count": 3
                      },
                      {
                        "name": "158 others",
                        "count": 162
                      },
                      {
                        "name": "Missing",
                        "count": 35
                      }
                    ]
                  }
                },
                {
                  "name": "industry",
                  "dtype": "object",
                  "stats": {
                    "unique_count": 69,
                    "nan_count": 48,
                    "categories": [
                      {
                        "name": "Major Banks",
                        "count": 15
                      },
                      {
                        "name": "68 others",
                        "count": 137
                      },
                      {
                        "name": "Missing",
                        "count": 48
                      }
                    ]
                  }
                },
                {
                  "name": "state",
                  "dtype": "object",
                  "stats": {
                    "unique_count": 36,
                    "nan_count": 147,
                    "categories": [
                      {
                        "name": "MI",
                        "count": 4
                      },
                      {
                        "name": "35 others",
                        "count": 49
                      },
                      {
                        "name": "Missing",
                        "count": 147
                      }
                    ]
                  }
                },
                {
                  "name": "country",
                  "dtype": "object",
                  "stats": {
                    "unique_count": 65,
                    "nan_count": 0,
                    "categories": [
                      {
                        "name": "China",
                        "count": 33
                      },
                      {
                        "name": "United States",
                        "count": 21
                      },
                      {
                        "name": "63 others",
                        "count": 146
                      }
                    ]
                  }
                },
                {
                  "name": "country_code",
                  "dtype": "object",
                  "stats": {
                    "unique_count": 65,
                    "nan_count": 0,
                    "categories": [
                      {
                        "name": "CN",
                        "count": 33
                      },
                      {
                        "name": "US",
                        "count": 21
                      },
                      {
                        "name": "63 others",
                        "count": 146
                      }
                    ]
                  }
                },
                {
                  "name": "stock_symbol",
                  "dtype": "object",
                  "stats": {
                    "unique_count": 197,
                    "nan_count": 0,
                    "categories": [
                      {
                        "name": "LONE",
                        "count": 2
                      },
                      {
                        "name": "THFF",
                        "count": 2
                      },
                      {
                        "name": "195 others",
                        "count": 196
                      }
                    ]
                  }
                },
                {
                  "name": "time_zone",
                  "dtype": "object",
                  "stats": {
                    "unique_count": 83,
                    "nan_count": 0,
                    "categories": [
                      {
                        "name": "Asia/Shanghai",
                        "count": 13
                      },
                      {
                        "name": "Asia/Jakarta",
                        "count": 12
                      },
                      {
                        "name": "81 others",
                        "count": 175
                      }
                    ]
                  }
                },
                {
                  "name": "_deepnote_index_column",
                  "dtype": "int64"
                }
              ],
              "rows_top": [
                {
                  "address": "74409 La Follette Hill",
                  "company": "Botsford-Dooley",
                  "market_cap": "$3.32B",
                  "industry": "Oil Refining/Marketing",
                  "state": "nan",
                  "country": "Taiwan",
                  "country_code": "TW",
                  "stock_symbol": "BCO",
                  "time_zone": "Asia/Taipei",
                  "_deepnote_index_column": 0
                },
                {
                  "address": "4 Kropf Crossing",
                  "company": "Buckridge, Conroy and Nitzsche",
                  "market_cap": "$93.98M",
                  "industry": "Major Pharmaceuticals",
                  "state": "NY",
                  "country": "United States",
                  "country_code": "US",
                  "stock_symbol": "CTIC",
                  "time_zone": "America/New_York",
                  "_deepnote_index_column": 1
                },
                {
                  "address": "34952 Badeau Street",
                  "company": "Hegmann, Emmerich and O'Connell",
                  "market_cap": "$34.63M",
                  "industry": "Medical/Dental Instruments",
                  "state": "nan",
                  "country": "China",
                  "country_code": "CN",
                  "stock_symbol": "MGCD",
                  "time_zone": "Asia/Shanghai",
                  "_deepnote_index_column": 2
                },
                {
                  "address": "876 Golf Course Junction",
                  "company": "Littel, Rau and Kuhlman",
                  "market_cap": "nan",
                  "industry": "Department/Specialty Retail Stores",
                  "state": "OAX",
                  "country": "Mexico",
                  "country_code": "MX",
                  "stock_symbol": "SHLDW",
                  "time_zone": "America/Mexico_City",
                  "_deepnote_index_column": 3
                },
                {
                  "address": "913 Ludington Parkway",
                  "company": "Becker-Macejkovic",
                  "market_cap": "nan",
                  "industry": "nan",
                  "state": "nan",
                  "country": "China",
                  "country_code": "CN",
                  "stock_symbol": "FRCF",
                  "time_zone": "Asia/Harbin",
                  "_deepnote_index_column": 4
                },
                {
                  "address": "0259 Derek Parkway",
                  "company": "Champlin, Steuber and Lehner",
                  "market_cap": "$607.04M",
                  "industry": "nan",
                  "state": "nan",
                  "country": "Nigeria",
                  "country_code": "NG",
                  "stock_symbol": "FSD",
                  "time_zone": "Africa/Lagos",
                  "_deepnote_index_column": 5
                },
                {
                  "address": "52766 Dayton Drive",
                  "company": "Rempel-Goodwin",
                  "market_cap": "nan",
                  "industry": "nan",
                  "state": "nan",
                  "country": "Burkina Faso",
                  "country_code": "BF",
                  "stock_symbol": "WFCR",
                  "time_zone": "Africa/Ouagadougou",
                  "_deepnote_index_column": 6
                },
                {
                  "address": "05 Warner Plaza",
                  "company": "Dooley-Kessler",
                  "market_cap": "$1.26B",
                  "industry": "Specialty Chemicals",
                  "state": "14",
                  "country": "Portugal",
                  "country_code": "PT",
                  "stock_symbol": "RAVN",
                  "time_zone": "Europe/Lisbon",
                  "_deepnote_index_column": 7
                },
                {
                  "address": "7 Dottie Way",
                  "company": "Harber Group",
                  "market_cap": "$83.66B",
                  "industry": "Major Pharmaceuticals",
                  "state": "nan",
                  "country": "Brazil",
                  "country_code": "BR",
                  "stock_symbol": "ABT",
                  "time_zone": "America/Sao_Paulo",
                  "_deepnote_index_column": 8
                },
                {
                  "address": "938 Pepper Wood Court",
                  "company": "Kuvalis-Huel",
                  "market_cap": "$4.24B",
                  "industry": "Biotechnology: Commercial Physical & Biological Resarch",
                  "state": "nan",
                  "country": "Indonesia",
                  "country_code": "ID",
                  "stock_symbol": "PRXL",
                  "time_zone": "Asia/Makassar",
                  "_deepnote_index_column": 9
                },
                {
                  "address": "36222 Dapin Street",
                  "company": "Franecki Group",
                  "market_cap": "$6.69B",
                  "industry": "Environmental Services",
                  "state": "nan",
                  "country": "Senegal",
                  "country_code": "SN",
                  "stock_symbol": "SRCL",
                  "time_zone": "Africa/Banjul",
                  "_deepnote_index_column": 10
                },
                {
                  "address": "6379 Lighthouse Bay Place",
                  "company": "Kertzmann Inc",
                  "market_cap": "nan",
                  "industry": "nan",
                  "state": "nan",
                  "country": "Brazil",
                  "country_code": "BR",
                  "stock_symbol": "CIMB",
                  "time_zone": "America/Bahia",
                  "_deepnote_index_column": 11
                },
                {
                  "address": "2466 Granby Lane",
                  "company": "Abernathy, Emard and Senger",
                  "market_cap": "$1.35B",
                  "industry": "Major Pharmaceuticals",
                  "state": "DC",
                  "country": "United States",
                  "country_code": "US",
                  "stock_symbol": "FOLD",
                  "time_zone": "America/New_York",
                  "_deepnote_index_column": 12
                },
                {
                  "address": "88371 4th Plaza",
                  "company": "Raynor Inc",
                  "market_cap": "$14.1M",
                  "industry": "Consumer Electronics/Appliances",
                  "state": "nan",
                  "country": "Russia",
                  "country_code": "RU",
                  "stock_symbol": "KOSS",
                  "time_zone": "Europe/Moscow",
                  "_deepnote_index_column": 13
                },
                {
                  "address": "02082 Rowland Point",
                  "company": "Abbott, Rodriguez and Schmitt",
                  "market_cap": "$4.87B",
                  "industry": "Major Banks",
                  "state": "nan",
                  "country": "Thailand",
                  "country_code": "TH",
                  "stock_symbol": "PVTB",
                  "time_zone": "Asia/Vientiane",
                  "_deepnote_index_column": 14
                },
                {
                  "address": "154 Fairfield Plaza",
                  "company": "Boehm-Durgan",
                  "market_cap": "$99.12M",
                  "industry": "Marine Transportation",
                  "state": "nan",
                  "country": "Poland",
                  "country_code": "PL",
                  "stock_symbol": "PANL",
                  "time_zone": "Europe/Warsaw",
                  "_deepnote_index_column": 15
                },
                {
                  "address": "4 Eggendart Street",
                  "company": "Luettgen-Raynor",
                  "market_cap": "$2.35B",
                  "industry": "Real Estate Investment Trusts",
                  "state": "nan",
                  "country": "Croatia",
                  "country_code": "HR",
                  "stock_symbol": "AKR",
                  "time_zone": "Europe/Zagreb",
                  "_deepnote_index_column": 16
                },
                {
                  "address": "76289 Lyons Center",
                  "company": "Koepp Inc",
                  "market_cap": "$10.84B",
                  "industry": "Accident &Health Insurance",
                  "state": "NY",
                  "country": "United States",
                  "country_code": "US",
                  "stock_symbol": "UNM",
                  "time_zone": "America/New_York",
                  "_deepnote_index_column": 17
                },
                {
                  "address": "37991 Jenna Point",
                  "company": "Bins, Graham and Stoltenberg",
                  "market_cap": "$58.01M",
                  "industry": "nan",
                  "state": "nan",
                  "country": "China",
                  "country_code": "CN",
                  "stock_symbol": "HYZD",
                  "time_zone": "Asia/Shanghai",
                  "_deepnote_index_column": 18
                },
                {
                  "address": "00538 Stuart Circle",
                  "company": "Effertz-McClure",
                  "market_cap": "nan",
                  "industry": "nan",
                  "state": "nan",
                  "country": "China",
                  "country_code": "CN",
                  "stock_symbol": "PBIB",
                  "time_zone": "Asia/Harbin",
                  "_deepnote_index_column": 19
                },
                {
                  "address": "414 Butterfield Court",
                  "company": "Jenkins, Rau and Waelchi",
                  "market_cap": "$901.61M",
                  "industry": "nan",
                  "state": "12",
                  "country": "Portugal",
                  "country_code": "PT",
                  "stock_symbol": "HTD",
                  "time_zone": "Europe/Lisbon",
                  "_deepnote_index_column": 20
                },
                {
                  "address": "7 Bunting Crossing",
                  "company": "Pouros Group",
                  "market_cap": "$126.32M",
                  "industry": "nan",
                  "state": "nan",
                  "country": "Pakistan",
                  "country_code": "PK",
                  "stock_symbol": "NIM",
                  "time_zone": "Asia/Karachi",
                  "_deepnote_index_column": 21
                },
                {
                  "address": "653 Eliot Lane",
                  "company": "O'Hara, Halvorson and Rodriguez",
                  "market_cap": "nan",
                  "industry": "Electric Utilities: Central",
                  "state": "nan",
                  "country": "Brazil",
                  "country_code": "BR",
                  "stock_symbol": "DTV",
                  "time_zone": "America/Fortaleza",
                  "_deepnote_index_column": 22
                },
                {
                  "address": "3 Leroy Road",
                  "company": "Feeney-Gusikowski",
                  "market_cap": "$63.57M",
                  "industry": "Major Banks",
                  "state": "nan",
                  "country": "Ecuador",
                  "country_code": "EC",
                  "stock_symbol": "UBCP",
                  "time_zone": "America/Guayaquil",
                  "_deepnote_index_column": 23
                },
                {
                  "address": "71 Calypso Crossing",
                  "company": "Ondricka, Kessler and Johnston",
                  "market_cap": "$112.21M",
                  "industry": "Oil Refining/Marketing",
                  "state": "nan",
                  "country": "Indonesia",
                  "country_code": "ID",
                  "stock_symbol": "CYRX",
                  "time_zone": "Asia/Jakarta",
                  "_deepnote_index_column": 24
                },
                {
                  "address": "2 Fairview Junction",
                  "company": "Jacobs and Sons",
                  "market_cap": "nan",
                  "industry": "nan",
                  "state": "nan",
                  "country": "Brazil",
                  "country_code": "BR",
                  "stock_symbol": "BANCE",
                  "time_zone": "America/Sao_Paulo",
                  "_deepnote_index_column": 25
                },
                {
                  "address": "7814 Becker Lane",
                  "company": "Weimann, Doyle and Rowe",
                  "market_cap": "$480.47M",
                  "industry": "Military/Government/Technical",
                  "state": "MD",
                  "country": "United States",
                  "country_code": "US",
                  "stock_symbol": "VSEC",
                  "time_zone": "America/New_York",
                  "_deepnote_index_column": 26
                },
                {
                  "address": "1 Elgar Hill",
                  "company": "Feeney and Sons",
                  "market_cap": "nan",
                  "industry": "Electric Utilities: Central",
                  "state": "nan",
                  "country": "Croatia",
                  "country_code": "HR",
                  "stock_symbol": "EZT",
                  "time_zone": "Europe/Zagreb",
                  "_deepnote_index_column": 27
                },
                {
                  "address": "592 Swallow Parkway",
                  "company": "White-Wolff",
                  "market_cap": "$829.14M",
                  "industry": "Major Pharmaceuticals",
                  "state": "nan",
                  "country": "Indonesia",
                  "country_code": "ID",
                  "stock_symbol": "AIMT",
                  "time_zone": "Asia/Makassar",
                  "_deepnote_index_column": 28
                },
                {
                  "address": "54 Northwestern Park",
                  "company": "O'Kon-Dickens",
                  "market_cap": "$26.42B",
                  "industry": "Air Freight/Delivery Services",
                  "state": "nan",
                  "country": "Poland",
                  "country_code": "PL",
                  "stock_symbol": "RYAAY",
                  "time_zone": "Europe/Warsaw",
                  "_deepnote_index_column": 29
                },
                {
                  "address": "63 Knutson Plaza",
                  "company": "Crona, Bartoletti and Vandervort",
                  "market_cap": "nan",
                  "industry": "Real Estate Investment Trusts",
                  "state": "AB",
                  "country": "Sweden",
                  "country_code": "SE",
                  "stock_symbol": "PSAE",
                  "time_zone": "Europe/Stockholm",
                  "_deepnote_index_column": 30
                },
                {
                  "address": "65387 Meadow Valley Court",
                  "company": "Ryan, Moen and Batz",
                  "market_cap": "$87.3M",
                  "industry": "Oil & Gas Production",
                  "state": "nan",
                  "country": "Serbia",
                  "country_code": "RS",
                  "stock_symbol": "LONE",
                  "time_zone": "Europe/Belgrade",
                  "_deepnote_index_column": 31
                },
                {
                  "address": "645 Spaight Terrace",
                  "company": "Sipes and Sons",
                  "market_cap": "$42.01M",
                  "industry": "Computer Software: Prepackaged Software",
                  "state": "MD",
                  "country": "Spain",
                  "country_code": "ES",
                  "stock_symbol": "EGAN",
                  "time_zone": "Europe/Madrid",
                  "_deepnote_index_column": 32
                },
                {
                  "address": "71 Tennyson Crossing",
                  "company": "Klein, Bosco and Miller",
                  "market_cap": "nan",
                  "industry": "nan",
                  "state": "nan",
                  "country": "Latvia",
                  "country_code": "LV",
                  "stock_symbol": "UMHB",
                  "time_zone": "Europe/Riga",
                  "_deepnote_index_column": 33
                },
                {
                  "address": "0827 Algoma Trail",
                  "company": "Hane, Schmidt and Waelchi",
                  "market_cap": "nan",
                  "industry": "nan",
                  "state": "nan",
                  "country": "China",
                  "country_code": "CN",
                  "stock_symbol": "WFCW",
                  "time_zone": "Asia/Kathmandu",
                  "_deepnote_index_column": 34
                },
                {
                  "address": "89475 Oakridge Way",
                  "company": "Labadie, McGlynn and Dare",
                  "market_cap": "$3.18B",
                  "industry": "Major Banks",
                  "state": "nan",
                  "country": "Japan",
                  "country_code": "JP",
                  "stock_symbol": "STL",
                  "time_zone": "Asia/Tokyo",
                  "_deepnote_index_column": 35
                },
                {
                  "address": "592 Bellgrove Place",
                  "company": "Willms and Sons",
                  "market_cap": "$1.72B",
                  "industry": "Property-Casualty Insurers",
                  "state": "nan",
                  "country": "Indonesia",
                  "country_code": "ID",
                  "stock_symbol": "OB",
                  "time_zone": "Asia/Jakarta",
                  "_deepnote_index_column": 36
                },
                {
                  "address": "587 Parkside Drive",
                  "company": "Spencer-Walter",
                  "market_cap": "$183.15M",
                  "industry": "nan",
                  "state": "nan",
                  "country": "China",
                  "country_code": "CN",
                  "stock_symbol": "PLW",
                  "time_zone": "Asia/Harbin",
                  "_deepnote_index_column": 37
                },
                {
                  "address": "27293 Ruskin Terrace",
                  "company": "Upton Inc",
                  "market_cap": "$63.95M",
                  "industry": "Other Consumer Services",
                  "state": "nan",
                  "country": "China",
                  "country_code": "CN",
                  "stock_symbol": "NAUH",
                  "time_zone": "Asia/Shanghai",
                  "_deepnote_index_column": 38
                },
                {
                  "address": "07564 Brentwood Road",
                  "company": "Blick Inc",
                  "market_cap": "$104.81M",
                  "industry": "Recreational Products/Toys",
                  "state": "nan",
                  "country": "Russia",
                  "country_code": "RU",
                  "stock_symbol": "JAKK",
                  "time_zone": "Europe/Moscow",
                  "_deepnote_index_column": 39
                },
                {
                  "address": "636 Algoma Crossing",
                  "company": "Gislason, Rolfson and Dicki",
                  "market_cap": "$45.01M",
                  "industry": "Marine Transportation",
                  "state": "nan",
                  "country": "China",
                  "country_code": "CN",
                  "stock_symbol": "TDW",
                  "time_zone": "Asia/Chongqing",
                  "_deepnote_index_column": 40
                },
                {
                  "address": "40776 5th Plaza",
                  "company": "Walter-Bartell",
                  "market_cap": "$546.13M",
                  "industry": "nan",
                  "state": "nan",
                  "country": "Russia",
                  "country_code": "RU",
                  "stock_symbol": "MMD",
                  "time_zone": "Europe/Moscow",
                  "_deepnote_index_column": 41
                },
                {
                  "address": "7477 Express Alley",
                  "company": "Strosin Inc",
                  "market_cap": "$156.02B",
                  "industry": "Auto Manufacturing",
                  "state": "nan",
                  "country": "Cambodia",
                  "country_code": "KH",
                  "stock_symbol": "TM",
                  "time_zone": "Asia/Phnom_Penh",
                  "_deepnote_index_column": 42
                },
                {
                  "address": "8510 Ridgeview Point",
                  "company": "Grant-Durgan",
                  "market_cap": "$195.96M",
                  "industry": "Industrial Machinery/Components",
                  "state": "PV",
                  "country": "Spain",
                  "country_code": "ES",
                  "stock_symbol": "GHM",
                  "time_zone": "Europe/Madrid",
                  "_deepnote_index_column": 43
                },
                {
                  "address": "8091 Magdeline Park",
                  "company": "Ratke-VonRueden",
                  "market_cap": "$3.76B",
                  "industry": "Building operators",
                  "state": "O",
                  "country": "Sweden",
                  "country_code": "SE",
                  "stock_symbol": "SRC",
                  "time_zone": "Europe/Stockholm",
                  "_deepnote_index_column": 44
                },
                {
                  "address": "90282 Huxley Drive",
                  "company": "Gulgowski-Donnelly",
                  "market_cap": "$2.77B",
                  "industry": "Major Banks",
                  "state": "nan",
                  "country": "Argentina",
                  "country_code": "AR",
                  "stock_symbol": "BXS",
                  "time_zone": "America/Argentina/Cordoba",
                  "_deepnote_index_column": 45
                },
                {
                  "address": "548 American Ash Circle",
                  "company": "Lebsack Inc",
                  "market_cap": "$702.5M",
                  "industry": "Major Banks",
                  "state": "I",
                  "country": "Sweden",
                  "country_code": "SE",
                  "stock_symbol": "TSC",
                  "time_zone": "Europe/Stockholm",
                  "_deepnote_index_column": 46
                },
                {
                  "address": "8 Jackson Road",
                  "company": "Parisian Group",
                  "market_cap": "$251.83B",
                  "industry": "Consumer Electronics/Appliances",
                  "state": "nan",
                  "country": "Poland",
                  "country_code": "PL",
                  "stock_symbol": "GE",
                  "time_zone": "Europe/Warsaw",
                  "_deepnote_index_column": 47
                },
                {
                  "address": "0 Crescent Oaks Alley",
                  "company": "Hickle-Fay",
                  "market_cap": "$3.55B",
                  "industry": "Metal Fabrications",
                  "state": "nan",
                  "country": "Japan",
                  "country_code": "JP",
                  "stock_symbol": "TKR",
                  "time_zone": "Asia/Tokyo",
                  "_deepnote_index_column": 48
                },
                {
                  "address": "4 Manufacturers Circle",
                  "company": "Considine, Kshlerin and Monahan",
                  "market_cap": "$740.26M",
                  "industry": "Semiconductors",
                  "state": "nan",
                  "country": "Argentina",
                  "country_code": "AR",
                  "stock_symbol": "CSIQ",
                  "time_zone": "America/Argentina/Cordoba",
                  "_deepnote_index_column": 49
                },
                {
                  "address": "9 Sullivan Junction",
                  "company": "Ankunding and Sons",
                  "market_cap": "$1.18B",
                  "industry": "Property-Casualty Insurers",
                  "state": "nan",
                  "country": "Dominican Republic",
                  "country_code": "DO",
                  "stock_symbol": "JRVR",
                  "time_zone": "America/Santo_Domingo",
                  "_deepnote_index_column": 50
                },
                {
                  "address": "074 Anzinger Park",
                  "company": "Rice-Murazik",
                  "market_cap": "nan",
                  "industry": "nan",
                  "state": "nan",
                  "country": "Estonia",
                  "country_code": "EE",
                  "stock_symbol": "MITTA",
                  "time_zone": "Europe/Tallinn",
                  "_deepnote_index_column": 51
                },
                {
                  "address": "6 Towne Point",
                  "company": "Reichert, Reilly and Cronin",
                  "market_cap": "$7.14B",
                  "industry": "Electric Utilities: Central",
                  "state": "nan",
                  "country": "Indonesia",
                  "country_code": "ID",
                  "stock_symbol": "VST",
                  "time_zone": "Asia/Makassar",
                  "_deepnote_index_column": 52
                },
                {
                  "address": "22 Main Lane",
                  "company": "Lebsack, Parker and Gleason",
                  "market_cap": "$60.4M",
                  "industry": "Major Pharmaceuticals",
                  "state": "nan",
                  "country": "Indonesia",
                  "country_code": "ID",
                  "stock_symbol": "IMMY",
                  "time_zone": "Asia/Jakarta",
                  "_deepnote_index_column": 53
                },
                {
                  "address": "29222 Meadow Vale Place",
                  "company": "Wuckert-Frami",
                  "market_cap": "$10.31B",
                  "industry": "Hotels/Resorts",
                  "state": "nan",
                  "country": "Ukraine",
                  "country_code": "UA",
                  "stock_symbol": "IHG",
                  "time_zone": "Europe/Simferopol",
                  "_deepnote_index_column": 54
                }
              ],
              "rows_bottom": [
                {
                  "address": "0394 Hayes Street",
                  "company": "Shanahan-Kunde",
                  "market_cap": "$589.55M",
                  "industry": "Home Furnishings",
                  "state": "nan",
                  "country": "Russia",
                  "country_code": "RU",
                  "stock_symbol": "CSWI",
                  "time_zone": "Europe/Moscow",
                  "_deepnote_index_column": 144
                },
                {
                  "address": "563 Corry Junction",
                  "company": "Kohler Group",
                  "market_cap": "$1.49B",
                  "industry": "Major Banks",
                  "state": "nan",
                  "country": "Poland",
                  "country_code": "PL",
                  "stock_symbol": "WABC",
                  "time_zone": "Europe/Warsaw",
                  "_deepnote_index_column": 145
                },
                {
                  "address": "49623 Spohn Street",
                  "company": "Hermiston, Koch and Jakubowski",
                  "market_cap": "$95.34M",
                  "industry": "Homebuilding",
                  "state": "nan",
                  "country": "Lesotho",
                  "country_code": "LS",
                  "stock_symbol": "GFA",
                  "time_zone": "Africa/Maseru",
                  "_deepnote_index_column": 146
                },
                {
                  "address": "37 Nevada Crossing",
                  "company": "Schumm, Deckow and Padberg",
                  "market_cap": "$45.23B",
                  "industry": "Publishing",
                  "state": "MI",
                  "country": "United States",
                  "country_code": "US",
                  "stock_symbol": "RELX",
                  "time_zone": "America/Detroit",
                  "_deepnote_index_column": 147
                },
                {
                  "address": "7 Dahle Avenue",
                  "company": "Prohaska, Sporer and Klocko",
                  "market_cap": "$701.48M",
                  "industry": "Investment Managers",
                  "state": "A1",
                  "country": "France",
                  "country_code": "FR",
                  "stock_symbol": "DHIL",
                  "time_zone": "Europe/Paris",
                  "_deepnote_index_column": 148
                },
                {
                  "address": "7 Karstens Street",
                  "company": "Lang and Sons",
                  "market_cap": "$257.8M",
                  "industry": "Computer Software: Prepackaged Software",
                  "state": "nan",
                  "country": "China",
                  "country_code": "CN",
                  "stock_symbol": "GSUM",
                  "time_zone": "Asia/Chongqing",
                  "_deepnote_index_column": 149
                },
                {
                  "address": "56948 Texas Way",
                  "company": "Orn and Sons",
                  "market_cap": "$4.33B",
                  "industry": "Semiconductors",
                  "state": "nan",
                  "country": "China",
                  "country_code": "CN",
                  "stock_symbol": "CY",
                  "time_zone": "Asia/Shanghai",
                  "_deepnote_index_column": 150
                },
                {
                  "address": "95 Menomonie Plaza",
                  "company": "Carter, Conn and Schumm",
                  "market_cap": "nan",
                  "industry": "Commercial Banks",
                  "state": "ENG",
                  "country": "United Kingdom",
                  "country_code": "GB",
                  "stock_symbol": "RBSH",
                  "time_zone": "Europe/London",
                  "_deepnote_index_column": 151
                },
                {
                  "address": "9 Rowland Road",
                  "company": "Parisian, Farrell and Torphy",
                  "market_cap": "nan",
                  "industry": "nan",
                  "state": "nan",
                  "country": "China",
                  "country_code": "CN",
                  "stock_symbol": "FRCH",
                  "time_zone": "Asia/Harbin",
                  "_deepnote_index_column": 152
                },
                {
                  "address": "6812 Fuller Parkway",
                  "company": "Greenholt, Nitzsche and Doyle",
                  "market_cap": "$152.96M",
                  "industry": "Metal Fabrications",
                  "state": "nan",
                  "country": "Philippines",
                  "country_code": "PH",
                  "stock_symbol": "GIFI",
                  "time_zone": "Asia/Manila",
                  "_deepnote_index_column": 153
                },
                {
                  "address": "5590 Montana Crossing",
                  "company": "Weimann-Crist",
                  "market_cap": "$3.82B",
                  "industry": "EDP Services",
                  "state": "97",
                  "country": "France",
                  "country_code": "FR",
                  "stock_symbol": "PFPT",
                  "time_zone": "Europe/Paris",
                  "_deepnote_index_column": 154
                },
                {
                  "address": "0613 Lotheville Way",
                  "company": "Kunze-Beer",
                  "market_cap": "$35.01M",
                  "industry": "Savings Institutions",
                  "state": "A8",
                  "country": "France",
                  "country_code": "FR",
                  "stock_symbol": "EQFN",
                  "time_zone": "Europe/Paris",
                  "_deepnote_index_column": 155
                },
                {
                  "address": "42204 Loeprich Junction",
                  "company": "Hagenes Group",
                  "market_cap": "$121.6M",
                  "industry": "nan",
                  "state": "nan",
                  "country": "China",
                  "country_code": "CN",
                  "stock_symbol": "GECC",
                  "time_zone": "Asia/Shanghai",
                  "_deepnote_index_column": 156
                },
                {
                  "address": "64569 Northland Way",
                  "company": "Turner-Bauch",
                  "market_cap": "$339.02M",
                  "industry": "nan",
                  "state": "nan",
                  "country": "Czech Republic",
                  "country_code": "CZ",
                  "stock_symbol": "PSF",
                  "time_zone": "Europe/Prague",
                  "_deepnote_index_column": 157
                },
                {
                  "address": "3885 Becker Park",
                  "company": "Legros, Jast and Doyle",
                  "market_cap": "$544.37M",
                  "industry": "Major Banks",
                  "state": "nan",
                  "country": "China",
                  "country_code": "CN",
                  "stock_symbol": "MBWM",
                  "time_zone": "Asia/Shanghai",
                  "_deepnote_index_column": 158
                },
                {
                  "address": "01674 Almo Road",
                  "company": "Price, Bruen and Morissette",
                  "market_cap": "$15.82M",
                  "industry": "Apparel",
                  "state": "nan",
                  "country": "Peru",
                  "country_code": "PE",
                  "stock_symbol": "NAKD",
                  "time_zone": "America/Lima",
                  "_deepnote_index_column": 159
                },
                {
                  "address": "60 Sycamore Hill",
                  "company": "Stoltenberg LLC",
                  "market_cap": "$3.3B",
                  "industry": "Telecommunications Equipment",
                  "state": "nan",
                  "country": "China",
                  "country_code": "CN",
                  "stock_symbol": "USM",
                  "time_zone": "Asia/Chongqing",
                  "_deepnote_index_column": 160
                },
                {
                  "address": "49 Mariners Cove Crossing",
                  "company": "Haley Inc",
                  "market_cap": "$600.57M",
                  "industry": "Real Estate Investment Trusts",
                  "state": "nan",
                  "country": "Philippines",
                  "country_code": "PH",
                  "stock_symbol": "ANH",
                  "time_zone": "Asia/Manila",
                  "_deepnote_index_column": 161
                },
                {
                  "address": "9 Hermina Crossing",
                  "company": "Hayes, Hermann and Jacobson",
                  "market_cap": "$875.28M",
                  "industry": "Major Banks",
                  "state": "nan",
                  "country": "Ecuador",
                  "country_code": "EC",
                  "stock_symbol": "CUBI",
                  "time_zone": "America/Guayaquil",
                  "_deepnote_index_column": 162
                },
                {
                  "address": "13946 Calypso Crossing",
                  "company": "Mueller LLC",
                  "market_cap": "$1.59B",
                  "industry": "Consumer Specialties",
                  "state": "nan",
                  "country": "Colombia",
                  "country_code": "CO",
                  "stock_symbol": "CENT",
                  "time_zone": "America/Bogota",
                  "_deepnote_index_column": 163
                },
                {
                  "address": "10479 Amoth Center",
                  "company": "Murray LLC",
                  "market_cap": "$1.97B",
                  "industry": "Package Goods/Cosmetics",
                  "state": "nan",
                  "country": "Russia",
                  "country_code": "RU",
                  "stock_symbol": "SCL",
                  "time_zone": "Europe/Minsk",
                  "_deepnote_index_column": 164
                },
                {
                  "address": "44683 Granby Pass",
                  "company": "Murazik-Barrows",
                  "market_cap": "nan",
                  "industry": "nan",
                  "state": "nan",
                  "country": "Russia",
                  "country_code": "RU",
                  "stock_symbol": "SAB",
                  "time_zone": "Europe/Moscow",
                  "_deepnote_index_column": 165
                },
                {
                  "address": "1 Stang Court",
                  "company": "Parker, Howe and Yundt",
                  "market_cap": "$1.68B",
                  "industry": "Real Estate Investment Trusts",
                  "state": "nan",
                  "country": "Indonesia",
                  "country_code": "ID",
                  "stock_symbol": "MGP",
                  "time_zone": "Asia/Jakarta",
                  "_deepnote_index_column": 166
                },
                {
                  "address": "0081 Dakota Way",
                  "company": "Moore, Quigley and Padberg",
                  "market_cap": "$301.6M",
                  "industry": "Semiconductors",
                  "state": "CA",
                  "country": "United States",
                  "country_code": "US",
                  "stock_symbol": "JASO",
                  "time_zone": "America/Los_Angeles",
                  "_deepnote_index_column": 167
                },
                {
                  "address": "5002 Namekagon Road",
                  "company": "Kub Inc",
                  "market_cap": "$2.43B",
                  "industry": "nan",
                  "state": "nan",
                  "country": "China",
                  "country_code": "CN",
                  "stock_symbol": "MCHI",
                  "time_zone": "Asia/Chongqing",
                  "_deepnote_index_column": 168
                },
                {
                  "address": "73 Hazelcrest Way",
                  "company": "Breitenberg-Quigley",
                  "market_cap": "$76.04M",
                  "industry": "nan",
                  "state": "nan",
                  "country": "Colombia",
                  "country_code": "CO",
                  "stock_symbol": "LOR",
                  "time_zone": "America/Bogota",
                  "_deepnote_index_column": 169
                },
                {
                  "address": "1698 Graceland Parkway",
                  "company": "Turcotte-Ziemann",
                  "market_cap": "$28.57B",
                  "industry": "Beverages (Production/Distribution)",
                  "state": "nan",
                  "country": "Azerbaijan",
                  "country_code": "AZ",
                  "stock_symbol": "MNST",
                  "time_zone": "Asia/Baku",
                  "_deepnote_index_column": 170
                },
                {
                  "address": "54 Stuart Circle",
                  "company": "Witting, Berge and Beahan",
                  "market_cap": "$7.66B",
                  "industry": "Real Estate Investment Trusts",
                  "state": "nan",
                  "country": "China",
                  "country_code": "CN",
                  "stock_symbol": "GLPI",
                  "time_zone": "Asia/Shanghai",
                  "_deepnote_index_column": 171
                },
                {
                  "address": "19 Erie Hill",
                  "company": "Tremblay-Larkin",
                  "market_cap": "$94.05M",
                  "industry": "nan",
                  "state": "nan",
                  "country": "Afghanistan",
                  "country_code": "AF",
                  "stock_symbol": "MZF",
                  "time_zone": "Asia/Kabul",
                  "_deepnote_index_column": 172
                },
                {
                  "address": "3 Welch Park",
                  "company": "Hegmann-Casper",
                  "market_cap": "$14.09M",
                  "industry": "Industrial Machinery/Components",
                  "state": "nan",
                  "country": "Jordan",
                  "country_code": "JO",
                  "stock_symbol": "ELSE",
                  "time_zone": "Asia/Amman",
                  "_deepnote_index_column": 173
                },
                {
                  "address": "505 Thierer Terrace",
                  "company": "Renner-Brekke",
                  "market_cap": "$413.03M",
                  "industry": "Home Furnishings",
                  "state": "nan",
                  "country": "Vietnam",
                  "country_code": "VN",
                  "stock_symbol": "FLXS",
                  "time_zone": "Asia/Ho_Chi_Minh",
                  "_deepnote_index_column": 174
                },
                {
                  "address": "6255 Lakewood Gardens Trail",
                  "company": "Moore-Schulist",
                  "market_cap": "$179.44M",
                  "industry": "Computer Software: Programming, Data Processing",
                  "state": "nan",
                  "country": "Indonesia",
                  "country_code": "ID",
                  "stock_symbol": "ENOC",
                  "time_zone": "Asia/Makassar",
                  "_deepnote_index_column": 175
                },
                {
                  "address": "718 Glacier Hill Drive",
                  "company": "Orn Inc",
                  "market_cap": "$5.09B",
                  "industry": "Specialty Insurers",
                  "state": "nan",
                  "country": "Tanzania",
                  "country_code": "TZ",
                  "stock_symbol": "FNFV",
                  "time_zone": "Africa/Dar_es_Salaam",
                  "_deepnote_index_column": 176
                },
                {
                  "address": "8 Homewood Park",
                  "company": "Daniel-Dickens",
                  "market_cap": "$52.6M",
                  "industry": "Military/Government/Technical",
                  "state": "nan",
                  "country": "Syria",
                  "country_code": "SY",
                  "stock_symbol": "EEI",
                  "time_zone": "Asia/Damascus",
                  "_deepnote_index_column": 177
                },
                {
                  "address": "78 Pepper Wood Avenue",
                  "company": "Prohaska-Stamm",
                  "market_cap": "$65.74M",
                  "industry": "Industrial Machinery/Components",
                  "state": "nan",
                  "country": "China",
                  "country_code": "CN",
                  "stock_symbol": "TGEN",
                  "time_zone": "Asia/Shanghai",
                  "_deepnote_index_column": 178
                },
                {
                  "address": "41752 Grover Road",
                  "company": "Baumbach, Schaden and Robel",
                  "market_cap": "$2.39B",
                  "industry": "Computer Software: Prepackaged Software",
                  "state": "CA",
                  "country": "United States",
                  "country_code": "US",
                  "stock_symbol": "DDD",
                  "time_zone": "America/Los_Angeles",
                  "_deepnote_index_column": 179
                },
                {
                  "address": "5 Iowa Lane",
                  "company": "Howell LLC",
                  "market_cap": "nan",
                  "industry": "Biotechnology: Biological Products (No Diagnostic Substances)",
                  "state": "15",
                  "country": "Netherlands",
                  "country_code": "NL",
                  "stock_symbol": "BVXVW",
                  "time_zone": "Europe/Amsterdam",
                  "_deepnote_index_column": 180
                },
                {
                  "address": "41126 Hanson Terrace",
                  "company": "Reichert Inc",
                  "market_cap": "$1.97B",
                  "industry": "Farming/Seeds/Milling",
                  "state": "nan",
                  "country": "Philippines",
                  "country_code": "PH",
                  "stock_symbol": "SITE",
                  "time_zone": "Asia/Manila",
                  "_deepnote_index_column": 181
                },
                {
                  "address": "045 Bay Crossing",
                  "company": "Koepp Inc",
                  "market_cap": "nan",
                  "industry": "Business Services",
                  "state": "nan",
                  "country": "Mongolia",
                  "country_code": "MN",
                  "stock_symbol": "ANDAR",
                  "time_zone": "Asia/Ulaanbaatar",
                  "_deepnote_index_column": 182
                },
                {
                  "address": "54 Vernon Park",
                  "company": "Boehm, VonRueden and Turner",
                  "market_cap": "$782.98M",
                  "industry": "Major Chemicals",
                  "state": "11",
                  "country": "Portugal",
                  "country_code": "PT",
                  "stock_symbol": "OCIP",
                  "time_zone": "Europe/Lisbon",
                  "_deepnote_index_column": 183
                },
                {
                  "address": "0 Jackson Street",
                  "company": "Nicolas, Feeney and Schaefer",
                  "market_cap": "$170.51M",
                  "industry": "nan",
                  "state": "BZ",
                  "country": "Hungary",
                  "country_code": "HU",
                  "stock_symbol": "JHS",
                  "time_zone": "Europe/Budapest",
                  "_deepnote_index_column": 184
                },
                {
                  "address": "11854 Vera Way",
                  "company": "Ankunding-Schuppe",
                  "market_cap": "$531.92M",
                  "industry": "Commercial Banks",
                  "state": "6",
                  "country": "Netherlands",
                  "country_code": "NL",
                  "stock_symbol": "PGC",
                  "time_zone": "Europe/Amsterdam",
                  "_deepnote_index_column": 185
                },
                {
                  "address": "7 Village Green Road",
                  "company": "Heathcote, Fritsch and Considine",
                  "market_cap": "nan",
                  "industry": "nan",
                  "state": "CA",
                  "country": "United States",
                  "country_code": "US",
                  "stock_symbol": "GDVA",
                  "time_zone": "America/Los_Angeles",
                  "_deepnote_index_column": 186
                },
                {
                  "address": "39370 Fuller Way",
                  "company": "Kunze LLC",
                  "market_cap": "$146.7M",
                  "industry": "Major Pharmaceuticals",
                  "state": "nan",
                  "country": "Ukraine",
                  "country_code": "UA",
                  "stock_symbol": "RDHL",
                  "time_zone": "Europe/Kiev",
                  "_deepnote_index_column": 187
                },
                {
                  "address": "107 Sunbrook Way",
                  "company": "Ernser Inc",
                  "market_cap": "$213.38M",
                  "industry": "nan",
                  "state": "nan",
                  "country": "Ireland",
                  "country_code": "IE",
                  "stock_symbol": "MSD",
                  "time_zone": "Europe/Dublin",
                  "_deepnote_index_column": 188
                },
                {
                  "address": "52 Vahlen Parkway",
                  "company": "Reichert Inc",
                  "market_cap": "nan",
                  "industry": "nan",
                  "state": "nan",
                  "country": "Zimbabwe",
                  "country_code": "ZW",
                  "stock_symbol": "PUKA",
                  "time_zone": "Africa/Gaborone",
                  "_deepnote_index_column": 189
                },
                {
                  "address": "02 Florence Circle",
                  "company": "Wiza LLC",
                  "market_cap": "$9.15B",
                  "industry": "Industrial Machinery/Components",
                  "state": "nan",
                  "country": "China",
                  "country_code": "CN",
                  "stock_symbol": "SNA",
                  "time_zone": "Asia/Harbin",
                  "_deepnote_index_column": 190
                },
                {
                  "address": "33 Helena Trail",
                  "company": "Kerluke, Langworth and Spinka",
                  "market_cap": "$300.48M",
                  "industry": "Railroads",
                  "state": "nan",
                  "country": "China",
                  "country_code": "CN",
                  "stock_symbol": "USDP",
                  "time_zone": "Asia/Shanghai",
                  "_deepnote_index_column": 191
                },
                {
                  "address": "977 Meadow Vale Lane",
                  "company": "Hayes, Bechtelar and O'Connell",
                  "market_cap": "$3.6B",
                  "industry": "Rental/Leasing Companies",
                  "state": "MO",
                  "country": "United States",
                  "country_code": "US",
                  "stock_symbol": "R",
                  "time_zone": "America/Chicago",
                  "_deepnote_index_column": 192
                },
                {
                  "address": "99863 Westridge Park",
                  "company": "Jakubowski Group",
                  "market_cap": "$4.63B",
                  "industry": "Oil & Gas Production",
                  "state": "nan",
                  "country": "Poland",
                  "country_code": "PL",
                  "stock_symbol": "CPG",
                  "time_zone": "Europe/Warsaw",
                  "_deepnote_index_column": 193
                },
                {
                  "address": "3 Briar Crest Park",
                  "company": "Metz, Corwin and Thompson",
                  "market_cap": "$550.5M",
                  "industry": "Consumer Electronics/Video Chains",
                  "state": "CA",
                  "country": "United States",
                  "country_code": "US",
                  "stock_symbol": "CONN",
                  "time_zone": "America/Los_Angeles",
                  "_deepnote_index_column": 194
                },
                {
                  "address": "7 Northridge Point",
                  "company": "Breitenberg, Stanton and Treutel",
                  "market_cap": "nan",
                  "industry": "nan",
                  "state": "nan",
                  "country": "Brazil",
                  "country_code": "BR",
                  "stock_symbol": "STAGB",
                  "time_zone": "America/Sao_Paulo",
                  "_deepnote_index_column": 195
                },
                {
                  "address": "434 Gerald Pass",
                  "company": "Bruen LLC",
                  "market_cap": "$144.39M",
                  "industry": "nan",
                  "state": "AZ",
                  "country": "United States",
                  "country_code": "US",
                  "stock_symbol": "NTX",
                  "time_zone": "America/Phoenix",
                  "_deepnote_index_column": 196
                },
                {
                  "address": "65391 Westport Park",
                  "company": "Donnelly and Sons",
                  "market_cap": "$2.65B",
                  "industry": "Department/Specialty Retail Stores",
                  "state": "AZ",
                  "country": "United States",
                  "country_code": "US",
                  "stock_symbol": "FIVE",
                  "time_zone": "America/Phoenix",
                  "_deepnote_index_column": 197
                },
                {
                  "address": "85992 Westerfield Lane",
                  "company": "Pfannerstill LLC",
                  "market_cap": "$685.51M",
                  "industry": "Catalog/Specialty Distribution",
                  "state": "nan",
                  "country": "Bosnia and Herzegovina",
                  "country_code": "BA",
                  "stock_symbol": "SYX",
                  "time_zone": "Europe/Sarajevo",
                  "_deepnote_index_column": 198
                },
                {
                  "address": "0132 Briar Crest Avenue",
                  "company": "Tromp, Zieme and Hackett",
                  "market_cap": "$487.29M",
                  "industry": "Finance: Consumer Services",
                  "state": "15",
                  "country": "Portugal",
                  "country_code": "PT",
                  "stock_symbol": "ENVA",
                  "time_zone": "Europe/Lisbon",
                  "_deepnote_index_column": 199
                }
              ]
            },
            "text/plain": "                      address                           company market_cap  \\\n0      74409 La Follette Hill                   Botsford-Dooley     $3.32B   \n1            4 Kropf Crossing    Buckridge, Conroy and Nitzsche    $93.98M   \n2         34952 Badeau Street   Hegmann, Emmerich and O'Connell    $34.63M   \n3    876 Golf Course Junction           Littel, Rau and Kuhlman        NaN   \n4       913 Ludington Parkway                 Becker-Macejkovic        NaN   \n..                        ...                               ...        ...   \n195        7 Northridge Point  Breitenberg, Stanton and Treutel        NaN   \n196           434 Gerald Pass                         Bruen LLC   $144.39M   \n197       65391 Westport Park                 Donnelly and Sons     $2.65B   \n198    85992 Westerfield Lane                  Pfannerstill LLC   $685.51M   \n199   0132 Briar Crest Avenue          Tromp, Zieme and Hackett   $487.29M   \n\n                               industry state                 country  \\\n0                Oil Refining/Marketing   NaN                  Taiwan   \n1                 Major Pharmaceuticals    NY           United States   \n2            Medical/Dental Instruments   NaN                   China   \n3    Department/Specialty Retail Stores   OAX                  Mexico   \n4                                   NaN   NaN                   China   \n..                                  ...   ...                     ...   \n195                                 NaN   NaN                  Brazil   \n196                                 NaN    AZ           United States   \n197  Department/Specialty Retail Stores    AZ           United States   \n198      Catalog/Specialty Distribution   NaN  Bosnia and Herzegovina   \n199          Finance: Consumer Services    15                Portugal   \n\n    country_code stock_symbol            time_zone  \n0             TW          BCO          Asia/Taipei  \n1             US         CTIC     America/New_York  \n2             CN         MGCD        Asia/Shanghai  \n3             MX        SHLDW  America/Mexico_City  \n4             CN         FRCF          Asia/Harbin  \n..           ...          ...                  ...  \n195           BR        STAGB    America/Sao_Paulo  \n196           US          NTX      America/Phoenix  \n197           US         FIVE      America/Phoenix  \n198           BA          SYX      Europe/Sarajevo  \n199           PT         ENVA        Europe/Lisbon  \n\n[200 rows x 9 columns]",
            "text/html": "<div>\n<style scoped>\n    .dataframe tbody tr th:only-of-type {\n        vertical-align: middle;\n    }\n\n    .dataframe tbody tr th {\n        vertical-align: top;\n    }\n\n    .dataframe thead th {\n        text-align: right;\n    }\n</style>\n<table border=\"1\" class=\"dataframe\">\n  <thead>\n    <tr style=\"text-align: right;\">\n      <th></th>\n      <th>address</th>\n      <th>company</th>\n      <th>market_cap</th>\n      <th>industry</th>\n      <th>state</th>\n      <th>country</th>\n      <th>country_code</th>\n      <th>stock_symbol</th>\n      <th>time_zone</th>\n    </tr>\n  </thead>\n  <tbody>\n    <tr>\n      <th>0</th>\n      <td>74409 La Follette Hill</td>\n      <td>Botsford-Dooley</td>\n      <td>$3.32B</td>\n      <td>Oil Refining/Marketing</td>\n      <td>NaN</td>\n      <td>Taiwan</td>\n      <td>TW</td>\n      <td>BCO</td>\n      <td>Asia/Taipei</td>\n    </tr>\n    <tr>\n      <th>1</th>\n      <td>4 Kropf Crossing</td>\n      <td>Buckridge, Conroy and Nitzsche</td>\n      <td>$93.98M</td>\n      <td>Major Pharmaceuticals</td>\n      <td>NY</td>\n      <td>United States</td>\n      <td>US</td>\n      <td>CTIC</td>\n      <td>America/New_York</td>\n    </tr>\n    <tr>\n      <th>2</th>\n      <td>34952 Badeau Street</td>\n      <td>Hegmann, Emmerich and O'Connell</td>\n      <td>$34.63M</td>\n      <td>Medical/Dental Instruments</td>\n      <td>NaN</td>\n      <td>China</td>\n      <td>CN</td>\n      <td>MGCD</td>\n      <td>Asia/Shanghai</td>\n    </tr>\n    <tr>\n      <th>3</th>\n      <td>876 Golf Course Junction</td>\n      <td>Littel, Rau and Kuhlman</td>\n      <td>NaN</td>\n      <td>Department/Specialty Retail Stores</td>\n      <td>OAX</td>\n      <td>Mexico</td>\n      <td>MX</td>\n      <td>SHLDW</td>\n      <td>America/Mexico_City</td>\n    </tr>\n    <tr>\n      <th>4</th>\n      <td>913 Ludington Parkway</td>\n      <td>Becker-Macejkovic</td>\n      <td>NaN</td>\n      <td>NaN</td>\n      <td>NaN</td>\n      <td>China</td>\n      <td>CN</td>\n      <td>FRCF</td>\n      <td>Asia/Harbin</td>\n    </tr>\n    <tr>\n      <th>...</th>\n      <td>...</td>\n      <td>...</td>\n      <td>...</td>\n      <td>...</td>\n      <td>...</td>\n      <td>...</td>\n      <td>...</td>\n      <td>...</td>\n      <td>...</td>\n    </tr>\n    <tr>\n      <th>195</th>\n      <td>7 Northridge Point</td>\n      <td>Breitenberg, Stanton and Treutel</td>\n      <td>NaN</td>\n      <td>NaN</td>\n      <td>NaN</td>\n      <td>Brazil</td>\n      <td>BR</td>\n      <td>STAGB</td>\n      <td>America/Sao_Paulo</td>\n    </tr>\n    <tr>\n      <th>196</th>\n      <td>434 Gerald Pass</td>\n      <td>Bruen LLC</td>\n      <td>$144.39M</td>\n      <td>NaN</td>\n      <td>AZ</td>\n      <td>United States</td>\n      <td>US</td>\n      <td>NTX</td>\n      <td>America/Phoenix</td>\n    </tr>\n    <tr>\n      <th>197</th>\n      <td>65391 Westport Park</td>\n      <td>Donnelly and Sons</td>\n      <td>$2.65B</td>\n      <td>Department/Specialty Retail Stores</td>\n      <td>AZ</td>\n      <td>United States</td>\n      <td>US</td>\n      <td>FIVE</td>\n      <td>America/Phoenix</td>\n    </tr>\n    <tr>\n      <th>198</th>\n      <td>85992 Westerfield Lane</td>\n      <td>Pfannerstill LLC</td>\n      <td>$685.51M</td>\n      <td>Catalog/Specialty Distribution</td>\n      <td>NaN</td>\n      <td>Bosnia and Herzegovina</td>\n      <td>BA</td>\n      <td>SYX</td>\n      <td>Europe/Sarajevo</td>\n    </tr>\n    <tr>\n      <th>199</th>\n      <td>0132 Briar Crest Avenue</td>\n      <td>Tromp, Zieme and Hackett</td>\n      <td>$487.29M</td>\n      <td>Finance: Consumer Services</td>\n      <td>15</td>\n      <td>Portugal</td>\n      <td>PT</td>\n      <td>ENVA</td>\n      <td>Europe/Lisbon</td>\n    </tr>\n  </tbody>\n</table>\n<p>200 rows × 9 columns</p>\n</div>"
          },
          "metadata": {}
        }
      ]
    },
    {
      "cell_type": "code",
      "metadata": {
        "tags": [],
        "cell_id": "00003-fdf15ccc-6f50-41e1-b577-7806e99fa415",
        "deepnote_to_be_reexecuted": false,
        "source_hash": "aeb40086",
        "execution_millis": 85,
        "execution_start": 1615543557070,
        "deepnote_cell_type": "code"
      },
      "source": "person_df",
      "execution_count": null,
      "outputs": [
        {
          "output_type": "execute_result",
          "execution_count": 3,
          "data": {
            "application/vnd.deepnote.dataframe.v2+json": {
              "row_count": 1000,
              "column_count": 13,
              "columns": [
                {
                  "name": "first_name",
                  "dtype": "object",
                  "stats": {
                    "unique_count": 947,
                    "nan_count": 0,
                    "categories": [
                      {
                        "name": "Howey",
                        "count": 3
                      },
                      {
                        "name": "Christos",
                        "count": 3
                      },
                      {
                        "name": "945 others",
                        "count": 994
                      }
                    ]
                  }
                },
                {
                  "name": "last_name",
                  "dtype": "object",
                  "stats": {
                    "unique_count": 989,
                    "nan_count": 0,
                    "categories": [
                      {
                        "name": "Vannoni",
                        "count": 2
                      },
                      {
                        "name": "Fowell",
                        "count": 2
                      },
                      {
                        "name": "987 others",
                        "count": 996
                      }
                    ]
                  }
                },
                {
                  "name": "email",
                  "dtype": "object",
                  "stats": {
                    "unique_count": 1000,
                    "nan_count": 0,
                    "categories": [
                      {
                        "name": "wmassenhove0@about.com",
                        "count": 1
                      },
                      {
                        "name": "gboyce1@etsy.com",
                        "count": 1
                      },
                      {
                        "name": "998 others",
                        "count": 998
                      }
                    ]
                  }
                },
                {
                  "name": "gender",
                  "dtype": "object",
                  "stats": {
                    "unique_count": 2,
                    "nan_count": 0,
                    "categories": [
                      {
                        "name": "M",
                        "count": 510
                      },
                      {
                        "name": "F",
                        "count": 490
                      }
                    ]
                  }
                },
                {
                  "name": "suffix",
                  "dtype": "object",
                  "stats": {
                    "unique_count": 5,
                    "nan_count": 821,
                    "categories": [
                      {
                        "name": "II",
                        "count": 40
                      },
                      {
                        "name": "4 others",
                        "count": 139
                      },
                      {
                        "name": "Missing",
                        "count": 821
                      }
                    ]
                  }
                },
                {
                  "name": "title",
                  "dtype": "object",
                  "stats": {
                    "unique_count": 6,
                    "nan_count": 118,
                    "categories": [
                      {
                        "name": "Mr",
                        "count": 161
                      },
                      {
                        "name": "5 others",
                        "count": 721
                      },
                      {
                        "name": "Missing",
                        "count": 118
                      }
                    ]
                  }
                },
                {
                  "name": "address",
                  "dtype": "object",
                  "stats": {
                    "unique_count": 1000,
                    "nan_count": 0,
                    "categories": [
                      {
                        "name": "98557 2nd Pass",
                        "count": 1
                      },
                      {
                        "name": "7 Marcy Lane",
                        "count": 1
                      },
                      {
                        "name": "998 others",
                        "count": 998
                      }
                    ]
                  }
                },
                {
                  "name": "department",
                  "dtype": "object",
                  "stats": {
                    "unique_count": 12,
                    "nan_count": 0,
                    "categories": [
                      {
                        "name": "Support",
                        "count": 103
                      },
                      {
                        "name": "Business Development",
                        "count": 97
                      },
                      {
                        "name": "10 others",
                        "count": 800
                      }
                    ]
                  }
                },
                {
                  "name": "bitcoin_address",
                  "dtype": "object",
                  "stats": {
                    "unique_count": 1000,
                    "nan_count": 0,
                    "categories": [
                      {
                        "name": "1Ken4CZmWgkghXJzCjHndpmEUMDtXPnUNp",
                        "count": 1
                      },
                      {
                        "name": "18c1EisbFW7PrRyXoZcztY2oRUuUcnJ2hK",
                        "count": 1
                      },
                      {
                        "name": "998 others",
                        "count": 998
                      }
                    ]
                  }
                },
                {
                  "name": "company",
                  "dtype": "object",
                  "stats": {
                    "unique_count": 230,
                    "nan_count": 0,
                    "categories": [
                      {
                        "name": "Hayes, Bechtelar and O'Connell",
                        "count": 56
                      },
                      {
                        "name": "Baumbach, Schaden and Robel",
                        "count": 50
                      },
                      {
                        "name": "228 others",
                        "count": 894
                      }
                    ]
                  }
                },
                {
                  "name": "ssn",
                  "dtype": "object",
                  "stats": {
                    "unique_count": 1000,
                    "nan_count": 0,
                    "categories": [
                      {
                        "name": "527-63-1710",
                        "count": 1
                      },
                      {
                        "name": "696-71-8117",
                        "count": 1
                      },
                      {
                        "name": "998 others",
                        "count": 998
                      }
                    ]
                  }
                },
                {
                  "name": "employee_start",
                  "dtype": "object",
                  "stats": {
                    "unique_count": 1000,
                    "nan_count": 0,
                    "categories": [
                      {
                        "name": "2021-02-02 03:48:49",
                        "count": 1
                      },
                      {
                        "name": "2020-09-17 01:27:03",
                        "count": 1
                      },
                      {
                        "name": "998 others",
                        "count": 998
                      }
                    ]
                  }
                },
                {
                  "name": "country_code",
                  "dtype": "object",
                  "stats": {
                    "unique_count": 65,
                    "nan_count": 0,
                    "categories": [
                      {
                        "name": "US",
                        "count": 365
                      },
                      {
                        "name": "CN",
                        "count": 116
                      },
                      {
                        "name": "63 others",
                        "count": 519
                      }
                    ]
                  }
                },
                {
                  "name": "_deepnote_index_column",
                  "dtype": "int64"
                }
              ],
              "rows_top": [
                {
                  "first_name": "Weber",
                  "last_name": "Massenhove",
                  "email": "wmassenhove0@about.com",
                  "gender": "M",
                  "suffix": "nan",
                  "title": "Dr",
                  "address": "98557 2nd Pass",
                  "department": "Services",
                  "bitcoin_address": "1Ken4CZmWgkghXJzCjHndpmEUMDtXPnUNp",
                  "company": "Lehner, Willms and McClure",
                  "ssn": "527-63-1710",
                  "employee_start": "2021-02-02 03:48:49",
                  "country_code": "ID",
                  "_deepnote_index_column": 0
                },
                {
                  "first_name": "Grethel",
                  "last_name": "Boyce",
                  "email": "gboyce1@etsy.com",
                  "gender": "F",
                  "suffix": "II",
                  "title": "Rev",
                  "address": "7 Marcy Lane",
                  "department": "Accounting",
                  "bitcoin_address": "18c1EisbFW7PrRyXoZcztY2oRUuUcnJ2hK",
                  "company": "Boehm, VonRueden and Turner",
                  "ssn": "696-71-8117",
                  "employee_start": "2020-09-17 01:27:03",
                  "country_code": "US",
                  "_deepnote_index_column": 1
                },
                {
                  "first_name": "Wilmar",
                  "last_name": "Duester",
                  "email": "wduester2@deliciousdays.com",
                  "gender": "M",
                  "suffix": "nan",
                  "title": "Honorable",
                  "address": "57666 Stoughton Court",
                  "department": "Human Resources",
                  "bitcoin_address": "1DuQgLuydME3HtXrYtDm6xk8agNqozhzs9",
                  "company": "Harris, Abbott and O'Kon",
                  "ssn": "383-85-6348",
                  "employee_start": "2020-10-01 01:30:20",
                  "country_code": "US",
                  "_deepnote_index_column": 2
                },
                {
                  "first_name": "Marrilee",
                  "last_name": "Burtt",
                  "email": "mburtt3@nps.gov",
                  "gender": "F",
                  "suffix": "Sr",
                  "title": "nan",
                  "address": "074 Elgar Point",
                  "department": "Research and Development",
                  "bitcoin_address": "12jmLByL7ngA6TLpRPNAtuh7Src7LGhiKn",
                  "company": "Feeney-Gusikowski",
                  "ssn": "674-80-7976",
                  "employee_start": "2020-12-30 18:25:52",
                  "country_code": "PT",
                  "_deepnote_index_column": 3
                },
                {
                  "first_name": "Ava",
                  "last_name": "Burchett",
                  "email": "aburchett4@taobao.com",
                  "gender": "F",
                  "suffix": "nan",
                  "title": "Honorable",
                  "address": "76045 Mockingbird Crossing",
                  "department": "Services",
                  "bitcoin_address": "1FDyhoQmmcrHXCcWD4cMy7VJCankW1K9R3",
                  "company": "Kerluke, Langworth and Spinka",
                  "ssn": "676-58-0954",
                  "employee_start": "2021-02-01 23:30:49",
                  "country_code": "BR",
                  "_deepnote_index_column": 4
                },
                {
                  "first_name": "Guglielmo",
                  "last_name": "Kopje",
                  "email": "gkopje5@godaddy.com",
                  "gender": "M",
                  "suffix": "nan",
                  "title": "Honorable",
                  "address": "19 Ridgeview Avenue",
                  "department": "Research and Development",
                  "bitcoin_address": "164cZCFafA4attwL8twdfmvss1mDqEFgU9",
                  "company": "Walter-Bartell",
                  "ssn": "515-61-1485",
                  "employee_start": "2020-03-13 09:39:12",
                  "country_code": "PL",
                  "_deepnote_index_column": 5
                },
                {
                  "first_name": "Trefor",
                  "last_name": "Pimme",
                  "email": "tpimme6@fda.gov",
                  "gender": "M",
                  "suffix": "nan",
                  "title": "Ms",
                  "address": "71710 Florence Avenue",
                  "department": "Legal",
                  "bitcoin_address": "1P6jGRf9X5UPWLy4FvNbbyhT14iKZtiALm",
                  "company": "Reilly, Lind and Frami",
                  "ssn": "544-96-0102",
                  "employee_start": "2020-08-10 06:12:04",
                  "country_code": "US",
                  "_deepnote_index_column": 6
                },
                {
                  "first_name": "Emelen",
                  "last_name": "Loftie",
                  "email": "eloftie7@qq.com",
                  "gender": "M",
                  "suffix": "nan",
                  "title": "Honorable",
                  "address": "64 Fallview Junction",
                  "department": "Support",
                  "bitcoin_address": "1HZVMJW316psSnpbKvpScPFFrefkASmgNs",
                  "company": "Gottlieb-Kessler",
                  "ssn": "736-31-9896",
                  "employee_start": "2020-04-07 12:21:30",
                  "country_code": "US",
                  "_deepnote_index_column": 7
                },
                {
                  "first_name": "Orsa",
                  "last_name": "Semkins",
                  "email": "osemkins8@washingtonpost.com",
                  "gender": "F",
                  "suffix": "nan",
                  "title": "Mrs",
                  "address": "4480 Gerald Lane",
                  "department": "Research and Development",
                  "bitcoin_address": "1MnhDfiU4FY9DmNYshD8x6TsZ2x7XyfL4a",
                  "company": "White-Wolff",
                  "ssn": "640-91-1490",
                  "employee_start": "2021-01-16 09:28:17",
                  "country_code": "US",
                  "_deepnote_index_column": 8
                },
                {
                  "first_name": "Ado",
                  "last_name": "Keywood",
                  "email": "akeywood9@godaddy.com",
                  "gender": "M",
                  "suffix": "nan",
                  "title": "Mr",
                  "address": "0786 Melby Way",
                  "department": "Research and Development",
                  "bitcoin_address": "19TLZUZDJJ6VdsUWozjKmXBbZc2edxVJz",
                  "company": "Schumm, Deckow and Padberg",
                  "ssn": "860-43-4144",
                  "employee_start": "2020-02-01 14:43:38",
                  "country_code": "BR",
                  "_deepnote_index_column": 9
                },
                {
                  "first_name": "Talbot",
                  "last_name": "Melmore",
                  "email": "tmelmorea@narod.ru",
                  "gender": "M",
                  "suffix": "Sr",
                  "title": "Mrs",
                  "address": "35862 Declaration Junction",
                  "department": "Training",
                  "bitcoin_address": "1MmGWy8wg8fEvL4AsnKw6WiXc2d7RRaW8w",
                  "company": "Baumbach, Schaden and Robel",
                  "ssn": "282-79-4826",
                  "employee_start": "2020-02-22 04:17:34",
                  "country_code": "UA",
                  "_deepnote_index_column": 10
                },
                {
                  "first_name": "Alonso",
                  "last_name": "Fitchen",
                  "email": "afitchenb@nba.com",
                  "gender": "M",
                  "suffix": "nan",
                  "title": "nan",
                  "address": "05 Mandrake Parkway",
                  "department": "Sales",
                  "bitcoin_address": "1C68HJM7YwumejWCsjeoADN973qxHNUEWH",
                  "company": "Abernathy, Emard and Senger",
                  "ssn": "253-43-8746",
                  "employee_start": "2020-05-28 14:34:45",
                  "country_code": "PT",
                  "_deepnote_index_column": 11
                },
                {
                  "first_name": "Hermann",
                  "last_name": "Warboy",
                  "email": "hwarboyc@nationalgeographic.com",
                  "gender": "M",
                  "suffix": "nan",
                  "title": "nan",
                  "address": "74 Eastlawn Road",
                  "department": "Engineering",
                  "bitcoin_address": "1BaxeoShfo3grCvxESERGsrjfpTkMRnWLf",
                  "company": "Hayes, Bechtelar and O'Connell",
                  "ssn": "658-18-0088",
                  "employee_start": "2020-06-05 06:08:48",
                  "country_code": "HN",
                  "_deepnote_index_column": 12
                },
                {
                  "first_name": "Donovan",
                  "last_name": "McElwee",
                  "email": "dmcelweed@tuttocitta.it",
                  "gender": "M",
                  "suffix": "IV",
                  "title": "Dr",
                  "address": "5868 Columbus Drive",
                  "department": "Human Resources",
                  "bitcoin_address": "1Mr9z6iMmchpEQAZqntScx5LU4fRoRTmF6",
                  "company": "Lind, Reinger and Hauck",
                  "ssn": "201-87-2300",
                  "employee_start": "2021-01-24 16:14:22",
                  "country_code": "US",
                  "_deepnote_index_column": 13
                },
                {
                  "first_name": "Lotti",
                  "last_name": "Zoellner",
                  "email": "lzoellnere@biglobe.ne.jp",
                  "gender": "F",
                  "suffix": "nan",
                  "title": "Mr",
                  "address": "01 Caliangt Road",
                  "department": "Engineering",
                  "bitcoin_address": "1Bm13baMQ31aKK3HRzQSoeJ7ZtidZWsxHW",
                  "company": "Klocko, Monahan and Bergstrom",
                  "ssn": "628-39-0869",
                  "employee_start": "2020-05-21 17:38:21",
                  "country_code": "RU",
                  "_deepnote_index_column": 14
                },
                {
                  "first_name": "Livy",
                  "last_name": "Furlow",
                  "email": "lfurlowf@dion.ne.jp",
                  "gender": "F",
                  "suffix": "nan",
                  "title": "Rev",
                  "address": "40758 Gateway Alley",
                  "department": "Business Development",
                  "bitcoin_address": "1JTZpnNufuQNNQg4FhAjarkW76E55YKzj9",
                  "company": "Parker, Howe and Yundt",
                  "ssn": "894-57-6580",
                  "employee_start": "2020-10-30 05:35:52",
                  "country_code": "LS",
                  "_deepnote_index_column": 15
                },
                {
                  "first_name": "Spense",
                  "last_name": "Parlett",
                  "email": "sparlettg@sogou.com",
                  "gender": "M",
                  "suffix": "nan",
                  "title": "Mrs",
                  "address": "97082 Pleasure Pass",
                  "department": "Accounting",
                  "bitcoin_address": "1CbwEGGHTP4e1cVdfsgiUuaQCjG8xwZ6At",
                  "company": "Pouros Group",
                  "ssn": "481-58-4380",
                  "employee_start": "2021-02-14 12:15:17",
                  "country_code": "JO",
                  "_deepnote_index_column": 16
                },
                {
                  "first_name": "Madeleine",
                  "last_name": "Evelyn",
                  "email": "mevelynh@mit.edu",
                  "gender": "F",
                  "suffix": "nan",
                  "title": "Mrs",
                  "address": "77 Erie Lane",
                  "department": "Product Management",
                  "bitcoin_address": "116DiSJrojB1M2zrjPPNnD7GStcUN1KdER",
                  "company": "Spencer and Sons",
                  "ssn": "728-52-8323",
                  "employee_start": "2020-01-01 16:49:39",
                  "country_code": "CN",
                  "_deepnote_index_column": 17
                },
                {
                  "first_name": "Hersh",
                  "last_name": "Joules",
                  "email": "hjoulesi@google.co.uk",
                  "gender": "M",
                  "suffix": "nan",
                  "title": "Honorable",
                  "address": "01210 Starling Lane",
                  "department": "Human Resources",
                  "bitcoin_address": "16EjnAA9CArWe8yo779TV4rujzGsiytUNB",
                  "company": "Parker, Howe and Yundt",
                  "ssn": "418-78-8264",
                  "employee_start": "2020-11-30 13:19:06",
                  "country_code": "RU",
                  "_deepnote_index_column": 18
                },
                {
                  "first_name": "Kevin",
                  "last_name": "Scyone",
                  "email": "kscyonej@bandcamp.com",
                  "gender": "M",
                  "suffix": "nan",
                  "title": "Dr",
                  "address": "25647 Sutteridge Road",
                  "department": "Support",
                  "bitcoin_address": "1A5vgW3J6GeLa9BxiBXmbQPLw7RjmgBX5A",
                  "company": "Gerlach, Welch and Hessel",
                  "ssn": "428-83-2323",
                  "employee_start": "2020-12-28 07:13:28",
                  "country_code": "US",
                  "_deepnote_index_column": 19
                },
                {
                  "first_name": "Heidie",
                  "last_name": "Leser",
                  "email": "hleserk@dmoz.org",
                  "gender": "F",
                  "suffix": "nan",
                  "title": "Dr",
                  "address": "2497 Shoshone Circle",
                  "department": "Legal",
                  "bitcoin_address": "1AJXSf9tvLZC4kF41vx93Rr41Q4Thpp19r",
                  "company": "Hagenes Group",
                  "ssn": "144-16-0035",
                  "employee_start": "2020-01-29 02:09:01",
                  "country_code": "US",
                  "_deepnote_index_column": 20
                },
                {
                  "first_name": "Georges",
                  "last_name": "Courtier",
                  "email": "gcourtierl@slate.com",
                  "gender": "M",
                  "suffix": "nan",
                  "title": "Honorable",
                  "address": "9 Messerschmidt Park",
                  "department": "Legal",
                  "bitcoin_address": "18p81kf3ndj47B31W8EaznP8LD3m7zVjDR",
                  "company": "Reilly, Lind and Frami",
                  "ssn": "229-13-5298",
                  "employee_start": "2020-12-23 09:39:09",
                  "country_code": "CN",
                  "_deepnote_index_column": 21
                },
                {
                  "first_name": "Vail",
                  "last_name": "Grist",
                  "email": "vgristm@flavors.me",
                  "gender": "M",
                  "suffix": "nan",
                  "title": "Ms",
                  "address": "844 Loftsgordon Park",
                  "department": "Marketing",
                  "bitcoin_address": "1L9KxVvW3khx9LzP3pJZrcWrvosBitPpXz",
                  "company": "DuBuque, Yundt and Spencer",
                  "ssn": "496-51-5885",
                  "employee_start": "2020-04-23 14:47:58",
                  "country_code": "US",
                  "_deepnote_index_column": 22
                },
                {
                  "first_name": "Chelsea",
                  "last_name": "Vannoni",
                  "email": "cvannonin@ocn.ne.jp",
                  "gender": "F",
                  "suffix": "nan",
                  "title": "Mrs",
                  "address": "130 Golf Hill",
                  "department": "Support",
                  "bitcoin_address": "1GBcDAeesBBMNjSxhN8s288QXV6h6Ar9HH",
                  "company": "Moore-Schulist",
                  "ssn": "452-27-9691",
                  "employee_start": "2020-12-02 11:29:22",
                  "country_code": "SE",
                  "_deepnote_index_column": 23
                },
                {
                  "first_name": "Elliott",
                  "last_name": "Birney",
                  "email": "ebirneyo@umich.edu",
                  "gender": "M",
                  "suffix": "nan",
                  "title": "Ms",
                  "address": "518 Corben Crossing",
                  "department": "Marketing",
                  "bitcoin_address": "1K9bDnG3bnam62kTtvKc79THBp1Am3H4vR",
                  "company": "Orn and Sons",
                  "ssn": "895-92-4142",
                  "employee_start": "2020-10-04 02:05:20",
                  "country_code": "PH",
                  "_deepnote_index_column": 24
                },
                {
                  "first_name": "Erena",
                  "last_name": "Wreak",
                  "email": "ewreakp@altervista.org",
                  "gender": "F",
                  "suffix": "nan",
                  "title": "Ms",
                  "address": "453 Kenwood Avenue",
                  "department": "Legal",
                  "bitcoin_address": "174xyn6tKuki5dLthi8xEzaRniPcu9yTkv",
                  "company": "Schulist-Feeney",
                  "ssn": "391-86-2292",
                  "employee_start": "2020-11-17 22:56:51",
                  "country_code": "CN",
                  "_deepnote_index_column": 25
                },
                {
                  "first_name": "Emmanuel",
                  "last_name": "Pattison",
                  "email": "epattisonq@businesswire.com",
                  "gender": "M",
                  "suffix": "nan",
                  "title": "Honorable",
                  "address": "6727 Bellgrove Street",
                  "department": "Product Management",
                  "bitcoin_address": "19LHaRKA3gkMUN4AsLt26k9hyJ3Pmpu9Pg",
                  "company": "Johnston-Barton",
                  "ssn": "621-99-5726",
                  "employee_start": "2020-04-22 23:06:43",
                  "country_code": "US",
                  "_deepnote_index_column": 26
                },
                {
                  "first_name": "Vincenz",
                  "last_name": "Farrant",
                  "email": "vfarrantr@themeforest.net",
                  "gender": "M",
                  "suffix": "nan",
                  "title": "Rev",
                  "address": "1 Muir Court",
                  "department": "Support",
                  "bitcoin_address": "1ANDnVqDxSDB64AS6chqNpN2D3Ui9XfoXu",
                  "company": "Wuckert-Kunze",
                  "ssn": "210-24-9005",
                  "employee_start": "2020-03-17 19:11:36",
                  "country_code": "BR",
                  "_deepnote_index_column": 27
                },
                {
                  "first_name": "Mandel",
                  "last_name": "Thelwll",
                  "email": "mthelwlls@ucsd.edu",
                  "gender": "M",
                  "suffix": "nan",
                  "title": "Honorable",
                  "address": "39467 Golf Drive",
                  "department": "Human Resources",
                  "bitcoin_address": "1LnfjF67DsG4suoMQ7YdzAkoNssKEmoBxz",
                  "company": "Farrell, Koelpin and Turner",
                  "ssn": "707-56-8271",
                  "employee_start": "2020-08-17 02:18:23",
                  "country_code": "IE",
                  "_deepnote_index_column": 28
                },
                {
                  "first_name": "Sabine",
                  "last_name": "Fowell",
                  "email": "sfowellt@dell.com",
                  "gender": "F",
                  "suffix": "nan",
                  "title": "Mr",
                  "address": "309 Sachtjen Court",
                  "department": "Training",
                  "bitcoin_address": "1MCHQP6JrETj4o11Wc8iD3HDZvgk2qpLqX",
                  "company": "Murazik-Barrows",
                  "ssn": "195-01-0375",
                  "employee_start": "2020-06-28 17:26:26",
                  "country_code": "BO",
                  "_deepnote_index_column": 29
                },
                {
                  "first_name": "Fayina",
                  "last_name": "Van Weedenburg",
                  "email": "fvanweedenburgu@rediff.com",
                  "gender": "F",
                  "suffix": "nan",
                  "title": "Ms",
                  "address": "02 Paget Lane",
                  "department": "Support",
                  "bitcoin_address": "129K4jJNVYRsbSKhWneWC6YgnjZnvGAMDT",
                  "company": "Koepp Inc",
                  "ssn": "427-22-5035",
                  "employee_start": "2020-06-12 01:50:49",
                  "country_code": "RU",
                  "_deepnote_index_column": 30
                },
                {
                  "first_name": "Xenos",
                  "last_name": "Bentson",
                  "email": "xbentsonv@wikispaces.com",
                  "gender": "M",
                  "suffix": "IV",
                  "title": "Mrs",
                  "address": "113 Manufacturers Parkway",
                  "department": "Product Management",
                  "bitcoin_address": "1J7P3rTgYjBuGGqAsL1YQGWvGhQhAyPQm7",
                  "company": "Bailey-Veum",
                  "ssn": "773-65-4888",
                  "employee_start": "2020-07-25 16:17:59",
                  "country_code": "US",
                  "_deepnote_index_column": 31
                },
                {
                  "first_name": "Yancey",
                  "last_name": "Ingman",
                  "email": "yingmanw@studiopress.com",
                  "gender": "M",
                  "suffix": "nan",
                  "title": "Ms",
                  "address": "6097 Utah Park",
                  "department": "Accounting",
                  "bitcoin_address": "1QJo9K6X8MnoiNkHPXZX5Ux4SpXL33FThc",
                  "company": "Kub Inc",
                  "ssn": "459-79-7753",
                  "employee_start": "2021-01-22 10:17:58",
                  "country_code": "US",
                  "_deepnote_index_column": 32
                },
                {
                  "first_name": "Jackson",
                  "last_name": "Thyng",
                  "email": "jthyngx@t.co",
                  "gender": "M",
                  "suffix": "nan",
                  "title": "Mrs",
                  "address": "132 Elka Place",
                  "department": "Product Management",
                  "bitcoin_address": "1CgZ7Pu4eyAXzyvkM394bXMFM7zEMujJ2Q",
                  "company": "Considine, Kshlerin and Monahan",
                  "ssn": "851-60-9891",
                  "employee_start": "2020-04-27 06:36:23",
                  "country_code": "CN",
                  "_deepnote_index_column": 33
                },
                {
                  "first_name": "Ashlin",
                  "last_name": "Heister",
                  "email": "aheistery@ucla.edu",
                  "gender": "M",
                  "suffix": "nan",
                  "title": "Ms",
                  "address": "565 Mandrake Alley",
                  "department": "Product Management",
                  "bitcoin_address": "15EAV2vJiLjz4746HSokoF4AnHyYyxz7ts",
                  "company": "Feeney-Gusikowski",
                  "ssn": "757-79-1872",
                  "employee_start": "2020-02-21 08:45:24",
                  "country_code": "BR",
                  "_deepnote_index_column": 34
                },
                {
                  "first_name": "Ernestine",
                  "last_name": "Stebbings",
                  "email": "estebbingsz@storify.com",
                  "gender": "F",
                  "suffix": "nan",
                  "title": "Rev",
                  "address": "022 Tennyson Crossing",
                  "department": "Business Development",
                  "bitcoin_address": "1GadstDWdhoCqC19n1NZ3GuBX4zhKct6Zw",
                  "company": "Boehm-Herzog",
                  "ssn": "845-50-5824",
                  "employee_start": "2021-02-15 18:24:36",
                  "country_code": "US",
                  "_deepnote_index_column": 35
                },
                {
                  "first_name": "Rivi",
                  "last_name": "Wrathmell",
                  "email": "rwrathmell10@barnesandnoble.com",
                  "gender": "F",
                  "suffix": "nan",
                  "title": "Rev",
                  "address": "3355 Forest Run Way",
                  "department": "Marketing",
                  "bitcoin_address": "1PvcQK8eby4yugDUhfX6iei73M3Q5yqjhw",
                  "company": "Dooley-Kessler",
                  "ssn": "891-70-5788",
                  "employee_start": "2020-04-08 06:26:02",
                  "country_code": "PL",
                  "_deepnote_index_column": 36
                },
                {
                  "first_name": "Kerry",
                  "last_name": "Maple",
                  "email": "kmaple11@booking.com",
                  "gender": "M",
                  "suffix": "Sr",
                  "title": "Ms",
                  "address": "4807 Fuller Hill",
                  "department": "Legal",
                  "bitcoin_address": "1Cfczo27UmiAi5Y8FQgWofjofeofag1N6K",
                  "company": "Ankunding and Sons",
                  "ssn": "752-03-9450",
                  "employee_start": "2020-09-03 08:44:41",
                  "country_code": "ID",
                  "_deepnote_index_column": 37
                }
              ],
              "rows_bottom": [
                {
                  "first_name": "Charil",
                  "last_name": "Lacknor",
                  "email": "clacknorqq@princeton.edu",
                  "gender": "F",
                  "suffix": "nan",
                  "title": "Honorable",
                  "address": "755 Del Mar Avenue",
                  "department": "Support",
                  "bitcoin_address": "16oGNfQ7bApgVd8LLS88rhxuQ53XE33dPk",
                  "company": "Greenholt and Sons",
                  "ssn": "740-53-7449",
                  "employee_start": "2020-02-23 06:41:39",
                  "country_code": "RU",
                  "_deepnote_index_column": 962
                },
                {
                  "first_name": "Benita",
                  "last_name": "Shelf",
                  "email": "bshelfqr@unblog.fr",
                  "gender": "F",
                  "suffix": "nan",
                  "title": "Mrs",
                  "address": "1488 Jenna Place",
                  "department": "Training",
                  "bitcoin_address": "1NMZye2nsH969uYcQAnAMc56LiRJXANxdy",
                  "company": "Kassulke, Balistreri and Hermann",
                  "ssn": "210-73-6295",
                  "employee_start": "2020-11-06 01:32:35",
                  "country_code": "CN",
                  "_deepnote_index_column": 963
                },
                {
                  "first_name": "Stephanus",
                  "last_name": "Webburn",
                  "email": "swebburnqs@squarespace.com",
                  "gender": "M",
                  "suffix": "nan",
                  "title": "nan",
                  "address": "71 Portage Park",
                  "department": "Accounting",
                  "bitcoin_address": "16LKUKmJUhcjLBTYHY6yCvyunZm7uTDFnL",
                  "company": "Swaniawski LLC",
                  "ssn": "856-53-1525",
                  "employee_start": "2020-04-03 07:24:38",
                  "country_code": "PL",
                  "_deepnote_index_column": 964
                },
                {
                  "first_name": "Shae",
                  "last_name": "Cusworth",
                  "email": "scusworthqt@slate.com",
                  "gender": "F",
                  "suffix": "Sr",
                  "title": "Dr",
                  "address": "82711 Pearson Court",
                  "department": "Services",
                  "bitcoin_address": "1QAWnk3QG28bkRvVVdoyaXMW4pVZEJpzPs",
                  "company": "McClure, Stokes and Stoltenberg",
                  "ssn": "117-98-5801",
                  "employee_start": "2021-01-04 06:56:38",
                  "country_code": "ES",
                  "_deepnote_index_column": 965
                },
                {
                  "first_name": "Maddalena",
                  "last_name": "Brewins",
                  "email": "mbrewinsqu@nba.com",
                  "gender": "F",
                  "suffix": "nan",
                  "title": "Mr",
                  "address": "7 Fieldstone Junction",
                  "department": "Accounting",
                  "bitcoin_address": "14u8cr4eS78rNTstVcvCTjQFYH3mBmEBBC",
                  "company": "Gorczany and Sons",
                  "ssn": "494-63-2692",
                  "employee_start": "2020-11-08 19:40:29",
                  "country_code": "CN",
                  "_deepnote_index_column": 966
                },
                {
                  "first_name": "Emmie",
                  "last_name": "Skase",
                  "email": "eskaseqv@globo.com",
                  "gender": "F",
                  "suffix": "nan",
                  "title": "nan",
                  "address": "1188 Springview Pass",
                  "department": "Sales",
                  "bitcoin_address": "1997Fp2Qz1WoeRmmnCKFTxaUqtKySWjqpE",
                  "company": "Purdy Group",
                  "ssn": "307-16-0294",
                  "employee_start": "2020-06-28 12:03:12",
                  "country_code": "US",
                  "_deepnote_index_column": 967
                },
                {
                  "first_name": "Jessi",
                  "last_name": "Buckham",
                  "email": "jbuckhamqw@tinypic.com",
                  "gender": "F",
                  "suffix": "nan",
                  "title": "Rev",
                  "address": "4283 Lighthouse Bay Hill",
                  "department": "Research and Development",
                  "bitcoin_address": "1KwXZddGaSiBE3ogRHYqYcdFctPTYKxFra",
                  "company": "Ortiz, Schaefer and Runolfsson",
                  "ssn": "299-37-2664",
                  "employee_start": "2020-07-10 03:30:21",
                  "country_code": "TM",
                  "_deepnote_index_column": 968
                },
                {
                  "first_name": "Alida",
                  "last_name": "De Filippi",
                  "email": "adefilippiqx@github.com",
                  "gender": "F",
                  "suffix": "nan",
                  "title": "Mr",
                  "address": "485 Truax Court",
                  "department": "Support",
                  "bitcoin_address": "16xmJLgyTPaJTwjzpQekEvp3FHp88wCaoH",
                  "company": "Boyer-Adams",
                  "ssn": "452-98-5093",
                  "employee_start": "2020-04-08 15:55:04",
                  "country_code": "ZW",
                  "_deepnote_index_column": 969
                },
                {
                  "first_name": "Carlos",
                  "last_name": "Longrigg",
                  "email": "clongriggqy@skype.com",
                  "gender": "M",
                  "suffix": "nan",
                  "title": "Mr",
                  "address": "40 Ohio Plaza",
                  "department": "Marketing",
                  "bitcoin_address": "1JguR9Cj8Zb1TjD9esLz1wb4bBn9AFGBuR",
                  "company": "Legros, Wisozk and Gerhold",
                  "ssn": "898-37-0020",
                  "employee_start": "2020-11-30 15:33:22",
                  "country_code": "TW",
                  "_deepnote_index_column": 970
                },
                {
                  "first_name": "Harv",
                  "last_name": "Petkens",
                  "email": "hpetkensqz@soundcloud.com",
                  "gender": "M",
                  "suffix": "nan",
                  "title": "Honorable",
                  "address": "9473 David Junction",
                  "department": "Product Management",
                  "bitcoin_address": "13e3KSErSAMSeCcBRV9uVyALfiysn6v8c7",
                  "company": "Runolfsdottir Group",
                  "ssn": "440-29-9807",
                  "employee_start": "2020-06-10 14:54:25",
                  "country_code": "RU",
                  "_deepnote_index_column": 971
                },
                {
                  "first_name": "Melamie",
                  "last_name": "Hartropp",
                  "email": "mhartroppr0@psu.edu",
                  "gender": "F",
                  "suffix": "nan",
                  "title": "Rev",
                  "address": "95782 Scofield Place",
                  "department": "Legal",
                  "bitcoin_address": "1JAAhgvXxh8RhZAHUoCnhmviq8hyJ3ndYt",
                  "company": "Schneider-Fahey",
                  "ssn": "493-69-0679",
                  "employee_start": "2020-06-06 17:50:41",
                  "country_code": "BA",
                  "_deepnote_index_column": 972
                },
                {
                  "first_name": "Dunstan",
                  "last_name": "Lembrick",
                  "email": "dlembrickr1@4shared.com",
                  "gender": "M",
                  "suffix": "nan",
                  "title": "Mr",
                  "address": "77 Ronald Regan Lane",
                  "department": "Support",
                  "bitcoin_address": "16Aq2xkjFyt2euUBzAzo8hDdDVCgkEYKXc",
                  "company": "Ruecker and Sons",
                  "ssn": "678-04-3126",
                  "employee_start": "2020-09-01 00:01:26",
                  "country_code": "BO",
                  "_deepnote_index_column": 973
                },
                {
                  "first_name": "Tiffanie",
                  "last_name": "Kyte",
                  "email": "tkyter2@seesaa.net",
                  "gender": "F",
                  "suffix": "Sr",
                  "title": "Ms",
                  "address": "98402 Westerfield Way",
                  "department": "Human Resources",
                  "bitcoin_address": "1Diwzjr74AETWuKXX39spVb14FKwzx2yvv",
                  "company": "Buckridge, Marks and Farrell",
                  "ssn": "262-26-1533",
                  "employee_start": "2020-01-16 05:24:58",
                  "country_code": "US",
                  "_deepnote_index_column": 974
                },
                {
                  "first_name": "Alexander",
                  "last_name": "Godsafe",
                  "email": "agodsafer3@aol.com",
                  "gender": "M",
                  "suffix": "nan",
                  "title": "Dr",
                  "address": "7 Schmedeman Center",
                  "department": "Human Resources",
                  "bitcoin_address": "1K5WpWyZv57k24SNC9uZzW1fp2mPy8tYW9",
                  "company": "Dooley-McCullough",
                  "ssn": "500-80-7753",
                  "employee_start": "2020-12-21 09:27:35",
                  "country_code": "US",
                  "_deepnote_index_column": 975
                },
                {
                  "first_name": "Liane",
                  "last_name": "Arch",
                  "email": "larchr4@yellowbook.com",
                  "gender": "F",
                  "suffix": "nan",
                  "title": "Ms",
                  "address": "83162 Glacier Hill Place",
                  "department": "Accounting",
                  "bitcoin_address": "167LHkX6dbmCJjijZzHW6PtUt2nja27FF6",
                  "company": "Buckridge-Windler",
                  "ssn": "368-42-6148",
                  "employee_start": "2020-12-11 08:39:44",
                  "country_code": "GM",
                  "_deepnote_index_column": 976
                },
                {
                  "first_name": "Saxon",
                  "last_name": "Paolazzi",
                  "email": "spaolazzir5@blogtalkradio.com",
                  "gender": "M",
                  "suffix": "nan",
                  "title": "Mr",
                  "address": "5930 Petterle Trail",
                  "department": "Sales",
                  "bitcoin_address": "17jyEne5ZFiNeCvScsKFNqYJxskA2UVMU6",
                  "company": "Gottlieb-Kessler",
                  "ssn": "317-66-1763",
                  "employee_start": "2020-04-07 05:55:54",
                  "country_code": "RU",
                  "_deepnote_index_column": 977
                },
                {
                  "first_name": "Blanche",
                  "last_name": "Coales",
                  "email": "bcoalesr6@mozilla.org",
                  "gender": "F",
                  "suffix": "nan",
                  "title": "Mr",
                  "address": "8 Hansons Center",
                  "department": "Engineering",
                  "bitcoin_address": "18P2hSUQY8kVY6rKfw4ge3xW8MNs7oY6UQ",
                  "company": "Krajcik Group",
                  "ssn": "467-44-2443",
                  "employee_start": "2020-03-22 01:26:03",
                  "country_code": "ID",
                  "_deepnote_index_column": 978
                },
                {
                  "first_name": "Dalila",
                  "last_name": "Aberkirder",
                  "email": "daberkirderr7@google.es",
                  "gender": "F",
                  "suffix": "nan",
                  "title": "Mr",
                  "address": "0962 South Lane",
                  "department": "Engineering",
                  "bitcoin_address": "19GvzZLqHPmRUDfYdWBeECAr2bj6AFwPPo",
                  "company": "Klein-Collier",
                  "ssn": "897-81-4977",
                  "employee_start": "2020-12-02 00:20:09",
                  "country_code": "TZ",
                  "_deepnote_index_column": 979
                },
                {
                  "first_name": "Ilse",
                  "last_name": "Chang",
                  "email": "ichangr8@gizmodo.com",
                  "gender": "F",
                  "suffix": "nan",
                  "title": "nan",
                  "address": "7279 Mendota Circle",
                  "department": "Research and Development",
                  "bitcoin_address": "1Ns7aDYwQjfVuFQQggQcjfwAKHmqTjs1GB",
                  "company": "Borer-Collier",
                  "ssn": "721-39-6926",
                  "employee_start": "2020-09-13 15:50:37",
                  "country_code": "RU",
                  "_deepnote_index_column": 980
                },
                {
                  "first_name": "Gretna",
                  "last_name": "MacMaster",
                  "email": "gmacmasterr9@list-manage.com",
                  "gender": "F",
                  "suffix": "nan",
                  "title": "Rev",
                  "address": "2923 Hazelcrest Terrace",
                  "department": "Services",
                  "bitcoin_address": "1Q3AQV2jfeMK5j8L3aWBwEbnX3ujGRrEJ8",
                  "company": "Schumm, Deckow and Padberg",
                  "ssn": "771-47-3905",
                  "employee_start": "2020-07-11 20:37:22",
                  "country_code": "HR",
                  "_deepnote_index_column": 981
                },
                {
                  "first_name": "Millisent",
                  "last_name": "Ship",
                  "email": "mshipra@abc.net.au",
                  "gender": "F",
                  "suffix": "IV",
                  "title": "Mr",
                  "address": "77 Larry Park",
                  "department": "Legal",
                  "bitcoin_address": "1PBgcWwzL8BcgdX2WonTXzx2c7D6GuHxAB",
                  "company": "Dickens, Jacobi and O'Reilly",
                  "ssn": "355-72-1112",
                  "employee_start": "2021-01-23 09:39:04",
                  "country_code": "DO",
                  "_deepnote_index_column": 982
                },
                {
                  "first_name": "Roanne",
                  "last_name": "Darton",
                  "email": "rdartonrb@adobe.com",
                  "gender": "F",
                  "suffix": "nan",
                  "title": "Honorable",
                  "address": "15381 Fulton Alley",
                  "department": "Marketing",
                  "bitcoin_address": "18jRt8wSjPzmVJoiwSyVa2Lb6VCYvNJZzh",
                  "company": "Keeling-O'Conner",
                  "ssn": "552-45-1999",
                  "employee_start": "2020-10-12 18:14:00",
                  "country_code": "US",
                  "_deepnote_index_column": 983
                },
                {
                  "first_name": "Graham",
                  "last_name": "Coon",
                  "email": "gcoonrc@cloudflare.com",
                  "gender": "M",
                  "suffix": "Sr",
                  "title": "Mr",
                  "address": "58172 Melody Court",
                  "department": "Business Development",
                  "bitcoin_address": "1Fgap469hmqCDPkvDAKqHpBXBoRRQ25Fzv",
                  "company": "Walter-Nicolas",
                  "ssn": "712-59-5914",
                  "employee_start": "2020-08-04 08:05:01",
                  "country_code": "US",
                  "_deepnote_index_column": 984
                },
                {
                  "first_name": "Titos",
                  "last_name": "Aspray",
                  "email": "tasprayrd@bravesites.com",
                  "gender": "M",
                  "suffix": "IV",
                  "title": "nan",
                  "address": "72 Lindbergh Road",
                  "department": "Product Management",
                  "bitcoin_address": "1HMRhC5nnqtPdw7mMCm9xasCuD8vmD9kMh",
                  "company": "Towne Inc",
                  "ssn": "240-55-0716",
                  "employee_start": "2020-03-11 22:12:00",
                  "country_code": "US",
                  "_deepnote_index_column": 985
                },
                {
                  "first_name": "Allistir",
                  "last_name": "Wattinham",
                  "email": "awattinhamre@bbb.org",
                  "gender": "M",
                  "suffix": "nan",
                  "title": "nan",
                  "address": "86318 3rd Court",
                  "department": "Business Development",
                  "bitcoin_address": "1JbyYVf2JcPgVUHGftpkhf8dYSXF3Dy416",
                  "company": "Baumbach, Schaden and Robel",
                  "ssn": "571-53-3331",
                  "employee_start": "2020-02-27 02:44:35",
                  "country_code": "US",
                  "_deepnote_index_column": 986
                },
                {
                  "first_name": "Daryn",
                  "last_name": "Stockell",
                  "email": "dstockellrf@google.fr",
                  "gender": "F",
                  "suffix": "nan",
                  "title": "Dr",
                  "address": "1 Carioca Pass",
                  "department": "Support",
                  "bitcoin_address": "1HvNvv5fADaJtQqfhwnsQskC3PhHmspxwV",
                  "company": "Schumm, Deckow and Padberg",
                  "ssn": "102-84-4813",
                  "employee_start": "2020-09-24 10:00:38",
                  "country_code": "JO",
                  "_deepnote_index_column": 987
                },
                {
                  "first_name": "Dasya",
                  "last_name": "Suscens",
                  "email": "dsuscensrg@altervista.org",
                  "gender": "F",
                  "suffix": "nan",
                  "title": "Rev",
                  "address": "1851 4th Circle",
                  "department": "Legal",
                  "bitcoin_address": "1BMuGHhHAqmkTobT25PFG43w3x5GFRrSKf",
                  "company": "Baumbach, Schaden and Robel",
                  "ssn": "709-78-2529",
                  "employee_start": "2020-09-21 20:24:23",
                  "country_code": "US",
                  "_deepnote_index_column": 988
                },
                {
                  "first_name": "Clo",
                  "last_name": "Giacubo",
                  "email": "cgiacuborh@umn.edu",
                  "gender": "F",
                  "suffix": "nan",
                  "title": "Honorable",
                  "address": "20420 Lerdahl Junction",
                  "department": "Product Management",
                  "bitcoin_address": "1N39ohjUVhB7Zabo7V2CiLWuaturfuqNQ6",
                  "company": "Reilly-Treutel",
                  "ssn": "356-61-8407",
                  "employee_start": "2021-01-06 22:30:42",
                  "country_code": "CN",
                  "_deepnote_index_column": 989
                },
                {
                  "first_name": "Meggi",
                  "last_name": "Cotta",
                  "email": "mcottari@si.edu",
                  "gender": "F",
                  "suffix": "nan",
                  "title": "Dr",
                  "address": "30244 Pankratz Hill",
                  "department": "Research and Development",
                  "bitcoin_address": "1Q91gF7coQk4X6tiwMN7KPJ8uLN4KMCite",
                  "company": "Hoppe and Sons",
                  "ssn": "551-52-3259",
                  "employee_start": "2020-10-08 07:54:26",
                  "country_code": "US",
                  "_deepnote_index_column": 990
                },
                {
                  "first_name": "Arnie",
                  "last_name": "D'Alesio",
                  "email": "adalesiorj@technorati.com",
                  "gender": "M",
                  "suffix": "nan",
                  "title": "Honorable",
                  "address": "7 Johnson Street",
                  "department": "Training",
                  "bitcoin_address": "1Jry6XheVs7fa3m8UGbrgBwP8KZgounoof",
                  "company": "Gusikowski, DuBuque and Hyatt",
                  "ssn": "342-49-9967",
                  "employee_start": "2020-08-19 08:03:01",
                  "country_code": "PH",
                  "_deepnote_index_column": 991
                },
                {
                  "first_name": "Clarita",
                  "last_name": "Gudger",
                  "email": "cgudgerrk@ow.ly",
                  "gender": "F",
                  "suffix": "nan",
                  "title": "Mr",
                  "address": "08589 Columbus Pass",
                  "department": "Legal",
                  "bitcoin_address": "14rUBMaguLv6xmSHyfAVwArXEfY4UFXifq",
                  "company": "Hayes, Bechtelar and O'Connell",
                  "ssn": "412-31-6368",
                  "employee_start": "2020-11-25 03:09:31",
                  "country_code": "US",
                  "_deepnote_index_column": 992
                },
                {
                  "first_name": "Midge",
                  "last_name": "Bunford",
                  "email": "mbunfordrl@exblog.jp",
                  "gender": "F",
                  "suffix": "nan",
                  "title": "nan",
                  "address": "9999 Hoepker Trail",
                  "department": "Product Management",
                  "bitcoin_address": "1JaNZjMZwUhrYwnXHiP2x9jJDG4VswcngE",
                  "company": "Casper Inc",
                  "ssn": "442-67-7605",
                  "employee_start": "2020-09-19 14:38:56",
                  "country_code": "US",
                  "_deepnote_index_column": 993
                },
                {
                  "first_name": "Shellysheldon",
                  "last_name": "Moulden",
                  "email": "smouldenrm@bigcartel.com",
                  "gender": "M",
                  "suffix": "nan",
                  "title": "Dr",
                  "address": "30 Melvin Court",
                  "department": "Support",
                  "bitcoin_address": "1NJGgbVy2SeVeYptChcrnYdwUXh8DgUDR8",
                  "company": "Koepp Inc",
                  "ssn": "674-64-9297",
                  "employee_start": "2020-03-17 05:56:25",
                  "country_code": "US",
                  "_deepnote_index_column": 994
                },
                {
                  "first_name": "Filbert",
                  "last_name": "Elstob",
                  "email": "felstobrn@tumblr.com",
                  "gender": "M",
                  "suffix": "nan",
                  "title": "Ms",
                  "address": "05 Kennedy Circle",
                  "department": "Research and Development",
                  "bitcoin_address": "15mp1C8hQeZ8gU5cqT61YBevptAtsjdWZQ",
                  "company": "Gottlieb-Kessler",
                  "ssn": "876-54-9605",
                  "employee_start": "2020-07-13 06:22:15",
                  "country_code": "US",
                  "_deepnote_index_column": 995
                },
                {
                  "first_name": "Vale",
                  "last_name": "Crewe",
                  "email": "vcrewero@cornell.edu",
                  "gender": "F",
                  "suffix": "III",
                  "title": "Ms",
                  "address": "77849 Autumn Leaf Alley",
                  "department": "Sales",
                  "bitcoin_address": "1DpciTAj3xXM3dHXiGFR5VT8Sa2upfaVDb",
                  "company": "Carter, Koelpin and Schinner",
                  "ssn": "158-36-3731",
                  "employee_start": "2020-06-16 16:03:50",
                  "country_code": "SE",
                  "_deepnote_index_column": 996
                },
                {
                  "first_name": "Padraig",
                  "last_name": "Krikorian",
                  "email": "pkrikorianrp@si.edu",
                  "gender": "M",
                  "suffix": "nan",
                  "title": "Honorable",
                  "address": "83616 Charing Cross Point",
                  "department": "Legal",
                  "bitcoin_address": "1FGRJ11uBZusjkjvAH3HvFLvc8oZTkiueK",
                  "company": "Connelly, Bartell and Dickinson",
                  "ssn": "197-66-0039",
                  "employee_start": "2020-11-29 13:31:51",
                  "country_code": "PT",
                  "_deepnote_index_column": 997
                },
                {
                  "first_name": "Sharla",
                  "last_name": "Beggin",
                  "email": "sbegginrq@shop-pro.jp",
                  "gender": "F",
                  "suffix": "nan",
                  "title": "Honorable",
                  "address": "8557 Pleasure Park",
                  "department": "Business Development",
                  "bitcoin_address": "13riqoS73GSScYNiP76DZQjoJ3JgaWu26M",
                  "company": "Torp-Schiller",
                  "ssn": "232-45-2522",
                  "employee_start": "2021-02-08 19:12:31",
                  "country_code": "US",
                  "_deepnote_index_column": 998
                },
                {
                  "first_name": "Luigi",
                  "last_name": "Golby",
                  "email": "lgolbyrr@freewebs.com",
                  "gender": "M",
                  "suffix": "nan",
                  "title": "nan",
                  "address": "64 Larry Parkway",
                  "department": "Marketing",
                  "bitcoin_address": "18UZKGyrA2JxSgjCghfyJgmm2AkzhD5iYZ",
                  "company": "Nitzsche-Dickens",
                  "ssn": "841-13-1501",
                  "employee_start": "2020-01-08 21:16:56",
                  "country_code": "PH",
                  "_deepnote_index_column": 999
                }
              ]
            },
            "text/plain": "    first_name   last_name                        email gender suffix  \\\n0        Weber  Massenhove       wmassenhove0@about.com      M    NaN   \n1      Grethel       Boyce             gboyce1@etsy.com      F     II   \n2       Wilmar     Duester  wduester2@deliciousdays.com      M    NaN   \n3     Marrilee       Burtt              mburtt3@nps.gov      F     Sr   \n4          Ava    Burchett        aburchett4@taobao.com      F    NaN   \n..         ...         ...                          ...    ...    ...   \n995    Filbert      Elstob         felstobrn@tumblr.com      M    NaN   \n996       Vale       Crewe         vcrewero@cornell.edu      F    III   \n997    Padraig   Krikorian          pkrikorianrp@si.edu      M    NaN   \n998     Sharla      Beggin        sbegginrq@shop-pro.jp      F    NaN   \n999      Luigi       Golby        lgolbyrr@freewebs.com      M    NaN   \n\n         title                     address                department  \\\n0           Dr              98557 2nd Pass                  Services   \n1          Rev                7 Marcy Lane                Accounting   \n2    Honorable       57666 Stoughton Court           Human Resources   \n3          NaN             074 Elgar Point  Research and Development   \n4    Honorable  76045 Mockingbird Crossing                  Services   \n..         ...                         ...                       ...   \n995         Ms           05 Kennedy Circle  Research and Development   \n996         Ms     77849 Autumn Leaf Alley                     Sales   \n997  Honorable   83616 Charing Cross Point                     Legal   \n998  Honorable          8557 Pleasure Park      Business Development   \n999        NaN            64 Larry Parkway                 Marketing   \n\n                        bitcoin_address                          company  \\\n0    1Ken4CZmWgkghXJzCjHndpmEUMDtXPnUNp       Lehner, Willms and McClure   \n1    18c1EisbFW7PrRyXoZcztY2oRUuUcnJ2hK      Boehm, VonRueden and Turner   \n2    1DuQgLuydME3HtXrYtDm6xk8agNqozhzs9         Harris, Abbott and O'Kon   \n3    12jmLByL7ngA6TLpRPNAtuh7Src7LGhiKn                Feeney-Gusikowski   \n4    1FDyhoQmmcrHXCcWD4cMy7VJCankW1K9R3    Kerluke, Langworth and Spinka   \n..                                  ...                              ...   \n995  15mp1C8hQeZ8gU5cqT61YBevptAtsjdWZQ                 Gottlieb-Kessler   \n996  1DpciTAj3xXM3dHXiGFR5VT8Sa2upfaVDb     Carter, Koelpin and Schinner   \n997  1FGRJ11uBZusjkjvAH3HvFLvc8oZTkiueK  Connelly, Bartell and Dickinson   \n998  13riqoS73GSScYNiP76DZQjoJ3JgaWu26M                    Torp-Schiller   \n999  18UZKGyrA2JxSgjCghfyJgmm2AkzhD5iYZ                 Nitzsche-Dickens   \n\n             ssn       employee_start country_code  \n0    527-63-1710  2021-02-02 03:48:49           ID  \n1    696-71-8117  2020-09-17 01:27:03           US  \n2    383-85-6348  2020-10-01 01:30:20           US  \n3    674-80-7976  2020-12-30 18:25:52           PT  \n4    676-58-0954  2021-02-01 23:30:49           BR  \n..           ...                  ...          ...  \n995  876-54-9605  2020-07-13 06:22:15           US  \n996  158-36-3731  2020-06-16 16:03:50           SE  \n997  197-66-0039  2020-11-29 13:31:51           PT  \n998  232-45-2522  2021-02-08 19:12:31           US  \n999  841-13-1501  2020-01-08 21:16:56           PH  \n\n[1000 rows x 13 columns]",
            "text/html": "<div>\n<style scoped>\n    .dataframe tbody tr th:only-of-type {\n        vertical-align: middle;\n    }\n\n    .dataframe tbody tr th {\n        vertical-align: top;\n    }\n\n    .dataframe thead th {\n        text-align: right;\n    }\n</style>\n<table border=\"1\" class=\"dataframe\">\n  <thead>\n    <tr style=\"text-align: right;\">\n      <th></th>\n      <th>first_name</th>\n      <th>last_name</th>\n      <th>email</th>\n      <th>gender</th>\n      <th>suffix</th>\n      <th>title</th>\n      <th>address</th>\n      <th>department</th>\n      <th>bitcoin_address</th>\n      <th>company</th>\n      <th>ssn</th>\n      <th>employee_start</th>\n      <th>country_code</th>\n    </tr>\n  </thead>\n  <tbody>\n    <tr>\n      <th>0</th>\n      <td>Weber</td>\n      <td>Massenhove</td>\n      <td>wmassenhove0@about.com</td>\n      <td>M</td>\n      <td>NaN</td>\n      <td>Dr</td>\n      <td>98557 2nd Pass</td>\n      <td>Services</td>\n      <td>1Ken4CZmWgkghXJzCjHndpmEUMDtXPnUNp</td>\n      <td>Lehner, Willms and McClure</td>\n      <td>527-63-1710</td>\n      <td>2021-02-02 03:48:49</td>\n      <td>ID</td>\n    </tr>\n    <tr>\n      <th>1</th>\n      <td>Grethel</td>\n      <td>Boyce</td>\n      <td>gboyce1@etsy.com</td>\n      <td>F</td>\n      <td>II</td>\n      <td>Rev</td>\n      <td>7 Marcy Lane</td>\n      <td>Accounting</td>\n      <td>18c1EisbFW7PrRyXoZcztY2oRUuUcnJ2hK</td>\n      <td>Boehm, VonRueden and Turner</td>\n      <td>696-71-8117</td>\n      <td>2020-09-17 01:27:03</td>\n      <td>US</td>\n    </tr>\n    <tr>\n      <th>2</th>\n      <td>Wilmar</td>\n      <td>Duester</td>\n      <td>wduester2@deliciousdays.com</td>\n      <td>M</td>\n      <td>NaN</td>\n      <td>Honorable</td>\n      <td>57666 Stoughton Court</td>\n      <td>Human Resources</td>\n      <td>1DuQgLuydME3HtXrYtDm6xk8agNqozhzs9</td>\n      <td>Harris, Abbott and O'Kon</td>\n      <td>383-85-6348</td>\n      <td>2020-10-01 01:30:20</td>\n      <td>US</td>\n    </tr>\n    <tr>\n      <th>3</th>\n      <td>Marrilee</td>\n      <td>Burtt</td>\n      <td>mburtt3@nps.gov</td>\n      <td>F</td>\n      <td>Sr</td>\n      <td>NaN</td>\n      <td>074 Elgar Point</td>\n      <td>Research and Development</td>\n      <td>12jmLByL7ngA6TLpRPNAtuh7Src7LGhiKn</td>\n      <td>Feeney-Gusikowski</td>\n      <td>674-80-7976</td>\n      <td>2020-12-30 18:25:52</td>\n      <td>PT</td>\n    </tr>\n    <tr>\n      <th>4</th>\n      <td>Ava</td>\n      <td>Burchett</td>\n      <td>aburchett4@taobao.com</td>\n      <td>F</td>\n      <td>NaN</td>\n      <td>Honorable</td>\n      <td>76045 Mockingbird Crossing</td>\n      <td>Services</td>\n      <td>1FDyhoQmmcrHXCcWD4cMy7VJCankW1K9R3</td>\n      <td>Kerluke, Langworth and Spinka</td>\n      <td>676-58-0954</td>\n      <td>2021-02-01 23:30:49</td>\n      <td>BR</td>\n    </tr>\n    <tr>\n      <th>...</th>\n      <td>...</td>\n      <td>...</td>\n      <td>...</td>\n      <td>...</td>\n      <td>...</td>\n      <td>...</td>\n      <td>...</td>\n      <td>...</td>\n      <td>...</td>\n      <td>...</td>\n      <td>...</td>\n      <td>...</td>\n      <td>...</td>\n    </tr>\n    <tr>\n      <th>995</th>\n      <td>Filbert</td>\n      <td>Elstob</td>\n      <td>felstobrn@tumblr.com</td>\n      <td>M</td>\n      <td>NaN</td>\n      <td>Ms</td>\n      <td>05 Kennedy Circle</td>\n      <td>Research and Development</td>\n      <td>15mp1C8hQeZ8gU5cqT61YBevptAtsjdWZQ</td>\n      <td>Gottlieb-Kessler</td>\n      <td>876-54-9605</td>\n      <td>2020-07-13 06:22:15</td>\n      <td>US</td>\n    </tr>\n    <tr>\n      <th>996</th>\n      <td>Vale</td>\n      <td>Crewe</td>\n      <td>vcrewero@cornell.edu</td>\n      <td>F</td>\n      <td>III</td>\n      <td>Ms</td>\n      <td>77849 Autumn Leaf Alley</td>\n      <td>Sales</td>\n      <td>1DpciTAj3xXM3dHXiGFR5VT8Sa2upfaVDb</td>\n      <td>Carter, Koelpin and Schinner</td>\n      <td>158-36-3731</td>\n      <td>2020-06-16 16:03:50</td>\n      <td>SE</td>\n    </tr>\n    <tr>\n      <th>997</th>\n      <td>Padraig</td>\n      <td>Krikorian</td>\n      <td>pkrikorianrp@si.edu</td>\n      <td>M</td>\n      <td>NaN</td>\n      <td>Honorable</td>\n      <td>83616 Charing Cross Point</td>\n      <td>Legal</td>\n      <td>1FGRJ11uBZusjkjvAH3HvFLvc8oZTkiueK</td>\n      <td>Connelly, Bartell and Dickinson</td>\n      <td>197-66-0039</td>\n      <td>2020-11-29 13:31:51</td>\n      <td>PT</td>\n    </tr>\n    <tr>\n      <th>998</th>\n      <td>Sharla</td>\n      <td>Beggin</td>\n      <td>sbegginrq@shop-pro.jp</td>\n      <td>F</td>\n      <td>NaN</td>\n      <td>Honorable</td>\n      <td>8557 Pleasure Park</td>\n      <td>Business Development</td>\n      <td>13riqoS73GSScYNiP76DZQjoJ3JgaWu26M</td>\n      <td>Torp-Schiller</td>\n      <td>232-45-2522</td>\n      <td>2021-02-08 19:12:31</td>\n      <td>US</td>\n    </tr>\n    <tr>\n      <th>999</th>\n      <td>Luigi</td>\n      <td>Golby</td>\n      <td>lgolbyrr@freewebs.com</td>\n      <td>M</td>\n      <td>NaN</td>\n      <td>NaN</td>\n      <td>64 Larry Parkway</td>\n      <td>Marketing</td>\n      <td>18UZKGyrA2JxSgjCghfyJgmm2AkzhD5iYZ</td>\n      <td>Nitzsche-Dickens</td>\n      <td>841-13-1501</td>\n      <td>2020-01-08 21:16:56</td>\n      <td>PH</td>\n    </tr>\n  </tbody>\n</table>\n<p>1000 rows × 13 columns</p>\n</div>"
          },
          "metadata": {}
        }
      ]
    },
    {
      "cell_type": "code",
      "metadata": {
        "tags": [],
        "cell_id": "00004-74549268-8e67-4a26-90b5-de11c391d9f2",
        "deepnote_to_be_reexecuted": false,
        "source_hash": "2e8328dd",
        "execution_millis": 66,
        "execution_start": 1615543558799,
        "deepnote_cell_type": "code"
      },
      "source": "transact_df",
      "execution_count": null,
      "outputs": [
        {
          "output_type": "execute_result",
          "execution_count": 4,
          "data": {
            "application/vnd.deepnote.dataframe.v2+json": {
              "row_count": 660,
              "column_count": 8,
              "columns": [
                {
                  "name": "bitcoin_address",
                  "dtype": "object",
                  "stats": {
                    "unique_count": 466,
                    "nan_count": 0,
                    "categories": [
                      {
                        "name": "1DcMPZCwZQBdkyoK1LuExH26CMc28cYvLZ",
                        "count": 5
                      },
                      {
                        "name": "15pMy3TXZWHhiLqxHSADB1qtAkeEbx5Uig",
                        "count": 5
                      },
                      {
                        "name": "464 others",
                        "count": 650
                      }
                    ]
                  }
                },
                {
                  "name": "amount",
                  "dtype": "object",
                  "stats": {
                    "unique_count": 656,
                    "nan_count": 4,
                    "categories": [
                      {
                        "name": "€8605,56",
                        "count": 1
                      },
                      {
                        "name": "655 others",
                        "count": 655
                      },
                      {
                        "name": "Missing",
                        "count": 4
                      }
                    ]
                  }
                },
                {
                  "name": "date",
                  "dtype": "object",
                  "stats": {
                    "unique_count": 308,
                    "nan_count": 0,
                    "categories": [
                      {
                        "name": "03-Mar-2021",
                        "count": 8
                      },
                      {
                        "name": "01-Dec-2020",
                        "count": 8
                      },
                      {
                        "name": "306 others",
                        "count": 644
                      }
                    ]
                  }
                },
                {
                  "name": "time",
                  "dtype": "object",
                  "stats": {
                    "unique_count": 582,
                    "nan_count": 77,
                    "categories": [
                      {
                        "name": "6:10:40 PM",
                        "count": 2
                      },
                      {
                        "name": "581 others",
                        "count": 581
                      },
                      {
                        "name": "Missing",
                        "count": 77
                      }
                    ]
                  }
                },
                {
                  "name": "time_zone",
                  "dtype": "object",
                  "stats": {
                    "unique_count": 156,
                    "nan_count": 0,
                    "categories": [
                      {
                        "name": "Asia/Chongqing",
                        "count": 50
                      },
                      {
                        "name": "Asia/Shanghai",
                        "count": 41
                      },
                      {
                        "name": "154 others",
                        "count": 569
                      }
                    ]
                  }
                },
                {
                  "name": "purchase_app",
                  "dtype": "object",
                  "stats": {
                    "unique_count": 82,
                    "nan_count": 1,
                    "categories": [
                      {
                        "name": "Holdlamis",
                        "count": 15
                      },
                      {
                        "name": "81 others",
                        "count": 644
                      },
                      {
                        "name": "Missing",
                        "count": 1
                      }
                    ]
                  }
                },
                {
                  "name": "category",
                  "dtype": "object",
                  "stats": {
                    "unique_count": 22,
                    "nan_count": 120,
                    "categories": [
                      {
                        "name": "Baby",
                        "count": 36
                      },
                      {
                        "name": "21 others",
                        "count": 504
                      },
                      {
                        "name": "Missing",
                        "count": 120
                      }
                    ]
                  }
                },
                {
                  "name": "time_offset",
                  "dtype": "float64",
                  "stats": {
                    "unique_count": 23,
                    "nan_count": 1,
                    "min": -11,
                    "max": 11,
                    "histogram": [
                      {
                        "bin_start": -11,
                        "bin_end": -8.8,
                        "count": 21
                      },
                      {
                        "bin_start": -8.8,
                        "bin_end": -6.6,
                        "count": 58
                      },
                      {
                        "bin_start": -6.6,
                        "bin_end": -4.3999999999999995,
                        "count": 119
                      },
                      {
                        "bin_start": -4.3999999999999995,
                        "bin_end": -2.1999999999999993,
                        "count": 85
                      },
                      {
                        "bin_start": -2.1999999999999993,
                        "bin_end": 0,
                        "count": 66
                      },
                      {
                        "bin_start": 0,
                        "bin_end": 2.200000000000001,
                        "count": 95
                      },
                      {
                        "bin_start": 2.200000000000001,
                        "bin_end": 4.400000000000002,
                        "count": 33
                      },
                      {
                        "bin_start": 4.400000000000002,
                        "bin_end": 6.600000000000001,
                        "count": 24
                      },
                      {
                        "bin_start": 6.600000000000001,
                        "bin_end": 8.8,
                        "count": 34
                      },
                      {
                        "bin_start": 8.8,
                        "bin_end": 11,
                        "count": 124
                      }
                    ]
                  }
                },
                {
                  "name": "_deepnote_index_column",
                  "dtype": "int64"
                }
              ],
              "rows_top": [
                {
                  "bitcoin_address": "13q3QxRNsksDNdVhRJnQMb8WLxnH2RqW4A",
                  "amount": "€8605,56",
                  "date": "19-Oct-2020",
                  "time": "11:12:56 PM",
                  "time_zone": "Europe/Warsaw",
                  "purchase_app": "Stim",
                  "category": "Music",
                  "time_offset": 10,
                  "_deepnote_index_column": 0
                },
                {
                  "bitcoin_address": "1HDSWNybswRtsFFGLFxAQrRzkvssT3NNaR",
                  "amount": "€2019,11",
                  "date": "28-Dec-2020",
                  "time": "9:43:06 PM",
                  "time_zone": "Asia/Shanghai",
                  "purchase_app": "Treeflex",
                  "category": "nan",
                  "time_offset": -3,
                  "_deepnote_index_column": 1
                },
                {
                  "bitcoin_address": "12kiq1UUw6aBgnGZBMFZaW7hDbH51uA4A6",
                  "amount": "€9984,66",
                  "date": "26-Nov-2020",
                  "time": "5:56:19 PM",
                  "time_zone": "Asia/Harbin",
                  "purchase_app": "Konklab",
                  "category": "Industrial",
                  "time_offset": 4,
                  "_deepnote_index_column": 2
                },
                {
                  "bitcoin_address": "1EXyq8wdLhZcDECocKDGZ7aCq6RmETeYJb",
                  "amount": "€5709,95",
                  "date": "03-Jun-2020",
                  "time": "7:38:22 PM",
                  "time_zone": "Asia/Tehran",
                  "purchase_app": "Otcom",
                  "category": "Beauty",
                  "time_offset": -4,
                  "_deepnote_index_column": 3
                },
                {
                  "bitcoin_address": "15mp1C8hQeZ8gU5cqT61YBevptAtsjdWZQ",
                  "amount": "£5149.41",
                  "date": "18-Sep-2020",
                  "time": "8:57:58 PM",
                  "time_zone": "Europe/Kiev",
                  "purchase_app": "Veribet",
                  "category": "nan",
                  "time_offset": 2,
                  "_deepnote_index_column": 4
                },
                {
                  "bitcoin_address": "1LEF7hCLDDjRJ4K65h4FnEaYZyepbM7dta",
                  "amount": "$8248.19",
                  "date": "03-Mar-2021",
                  "time": "nan",
                  "time_zone": "Europe/Athens",
                  "purchase_app": "Zamit",
                  "category": "Industrial",
                  "time_offset": 11,
                  "_deepnote_index_column": 5
                },
                {
                  "bitcoin_address": "1FGcQ9YhRWH8SKGnxp55PzgmYqKZPC9j9A",
                  "amount": "£614.72",
                  "date": "05-Jun-2020",
                  "time": "10:38:35 PM",
                  "time_zone": "Europe/Warsaw",
                  "purchase_app": "Andalax",
                  "category": "Games",
                  "time_offset": 10,
                  "_deepnote_index_column": 6
                },
                {
                  "bitcoin_address": "1JiCnq4Rr6DpgzuTznZ6Lek8Sbf7mqMkNa",
                  "amount": "nan",
                  "date": "02-Mar-2021",
                  "time": "4:03:56 AM",
                  "time_zone": "Europe/Tallinn",
                  "purchase_app": "Tampflex",
                  "category": "Garden",
                  "time_offset": 11,
                  "_deepnote_index_column": 7
                },
                {
                  "bitcoin_address": "19JHZUhKjRtcWtL91PQiBUq8ABginr3cfY",
                  "amount": "£259.63",
                  "date": "17-Jul-2020",
                  "time": "8:03:46 AM",
                  "time_zone": "Asia/Tokyo",
                  "purchase_app": "Redhold",
                  "category": "nan",
                  "time_offset": 9,
                  "_deepnote_index_column": 8
                },
                {
                  "bitcoin_address": "14A7xJxWgMatvjzpDGBDxKwLkdEimv4T8f",
                  "amount": "$5488.49",
                  "date": "26-Apr-2020",
                  "time": "8:40:55 PM",
                  "time_zone": "Asia/Chongqing",
                  "purchase_app": "Mat Lam Tam",
                  "category": "Books",
                  "time_offset": 2,
                  "_deepnote_index_column": 9
                },
                {
                  "bitcoin_address": "133Avc1Rf7Lq1kV5TAgibgo6T22UhAVxgC",
                  "amount": "£7326.94",
                  "date": "02-Aug-2020",
                  "time": "7:07:56 AM",
                  "time_zone": "Asia/Manila",
                  "purchase_app": "Cardify",
                  "category": "Tools",
                  "time_offset": -6,
                  "_deepnote_index_column": 10
                },
                {
                  "bitcoin_address": "1PjWdto3Vr4sLwc6Hipk5mX8dMEyK2AtGE",
                  "amount": "nan",
                  "date": "14-Jul-2020",
                  "time": "12:57:08 PM",
                  "time_zone": "Asia/Riyadh",
                  "purchase_app": "Pannier",
                  "category": "Music",
                  "time_offset": -4,
                  "_deepnote_index_column": 11
                },
                {
                  "bitcoin_address": "1BMXQwQz2zBZJhTPCED1xee9Qq1rgXyGNi",
                  "amount": "$7579.19",
                  "date": "13-Feb-2021",
                  "time": "11:24:36 PM",
                  "time_zone": "Asia/Shanghai",
                  "purchase_app": "Redhold",
                  "category": "Baby",
                  "time_offset": -3,
                  "_deepnote_index_column": 12
                },
                {
                  "bitcoin_address": "18K48Y9mV3dot6QeA1fzU2xacg31GHeAq3",
                  "amount": "$5129.32",
                  "date": "16-Feb-2021",
                  "time": "3:08:16 PM",
                  "time_zone": "Asia/Chongqing",
                  "purchase_app": "Wrapsafe",
                  "category": "Beauty",
                  "time_offset": 2,
                  "_deepnote_index_column": 13
                },
                {
                  "bitcoin_address": "1GMonRgcncJDFmYUtZVzqQYKneVscAQ1Fc",
                  "amount": "€6005,33",
                  "date": "19-Nov-2020",
                  "time": "6:32:20 PM",
                  "time_zone": "Europe/Belgrade",
                  "purchase_app": "Aerified",
                  "category": "nan",
                  "time_offset": -5,
                  "_deepnote_index_column": 14
                },
                {
                  "bitcoin_address": "15gr3Wvjbb7fWszPdJ9P3wN7Lxgng1quUG",
                  "amount": "$5841.06",
                  "date": "11-Sep-2020",
                  "time": "2:44:10 PM",
                  "time_zone": "Asia/Harbin",
                  "purchase_app": "Veribet",
                  "category": "Movies",
                  "time_offset": 4,
                  "_deepnote_index_column": 15
                },
                {
                  "bitcoin_address": "1NPThpZ7h2GwbvmKC6zqxNkUPk86ddkGgz",
                  "amount": "£8620.99",
                  "date": "20-Apr-2020",
                  "time": "nan",
                  "time_zone": "Africa/Gaborone",
                  "purchase_app": "Rank",
                  "category": "Shoes",
                  "time_offset": -11,
                  "_deepnote_index_column": 16
                },
                {
                  "bitcoin_address": "1C37g6Z9x6MzvyPJp86rcxqgSBHEyNkFGy",
                  "amount": "$503.81",
                  "date": "21-Nov-2020",
                  "time": "10:16:30 AM",
                  "time_zone": "Europe/Minsk",
                  "purchase_app": "Trippledex",
                  "category": "Beauty",
                  "time_offset": 5,
                  "_deepnote_index_column": 17
                },
                {
                  "bitcoin_address": "1Pd4iujMZnynAGa8UACJzfUepfdrfPjazD",
                  "amount": "€5775,27",
                  "date": "09-Mar-2020",
                  "time": "5:51:48 AM",
                  "time_zone": "Africa/Johannesburg",
                  "purchase_app": "Stringtough",
                  "category": "Outdoors",
                  "time_offset": -6,
                  "_deepnote_index_column": 18
                },
                {
                  "bitcoin_address": "1CFEhR6iTtNvjHZUioKhDkYY9hjp9KdkWt",
                  "amount": "¥4087.30",
                  "date": "05-Sep-2020",
                  "time": "1:13:55 PM",
                  "time_zone": "Asia/Shanghai",
                  "purchase_app": "Biodex",
                  "category": "Games",
                  "time_offset": -3,
                  "_deepnote_index_column": 19
                },
                {
                  "bitcoin_address": "12VrC5atYzdAJjzyZXQ7GxeyxCi56bZw71",
                  "amount": "£4642.23",
                  "date": "11-Feb-2021",
                  "time": "4:17:07 AM",
                  "time_zone": "America/Edmonton",
                  "purchase_app": "Bamity",
                  "category": "nan",
                  "time_offset": 8,
                  "_deepnote_index_column": 20
                },
                {
                  "bitcoin_address": "1Hh7XmstSTxLGs2uoC7n2D4USbrT9AtfgF",
                  "amount": "¥3229.06",
                  "date": "02-Jun-2020",
                  "time": "10:09:33 PM",
                  "time_zone": "Europe/Warsaw",
                  "purchase_app": "Subin",
                  "category": "Electronics",
                  "time_offset": 10,
                  "_deepnote_index_column": 21
                },
                {
                  "bitcoin_address": "1QAw5quAhVS4kz2fzHL41xuaXqeXAjCjwq",
                  "amount": "¥2878.31",
                  "date": "26-Dec-2020",
                  "time": "4:54:10 AM",
                  "time_zone": "Africa/Dar_es_Salaam",
                  "purchase_app": "Mat Lam Tam",
                  "category": "Outdoors",
                  "time_offset": -11,
                  "_deepnote_index_column": 22
                },
                {
                  "bitcoin_address": "12p93f97XLrkgPkxxtLuY2mT3nYrgfLQcG",
                  "amount": "£7789.90",
                  "date": "05-Jul-2020",
                  "time": "2:02:48 AM",
                  "time_zone": "Europe/Moscow",
                  "purchase_app": "Stringtough",
                  "category": "Electronics",
                  "time_offset": -6,
                  "_deepnote_index_column": 23
                },
                {
                  "bitcoin_address": "1A5unwi9r9iQyLEVKs1mUYcDQzPjC44Ynq",
                  "amount": "$8451.84",
                  "date": "14-Jan-2021",
                  "time": "11:34:07 PM",
                  "time_zone": "Asia/Tokyo",
                  "purchase_app": "Hatity",
                  "category": "Grocery",
                  "time_offset": 9,
                  "_deepnote_index_column": 24
                },
                {
                  "bitcoin_address": "16NAHyd4AeF4dfqWwV6iRBZ5R3jizfzAE2",
                  "amount": "£6592.00",
                  "date": "12-Jun-2020",
                  "time": "nan",
                  "time_zone": "America/Bogota",
                  "purchase_app": "Gembucket",
                  "category": "Tools",
                  "time_offset": -7,
                  "_deepnote_index_column": 25
                },
                {
                  "bitcoin_address": "1Njk66xqykvTvx134jRFGNNxJjdWMTAXjf",
                  "amount": "£6959.92",
                  "date": "01-Jan-2021",
                  "time": "10:01:12 PM",
                  "time_zone": "Asia/Makassar",
                  "purchase_app": "Fixflex",
                  "category": "Shoes",
                  "time_offset": -8,
                  "_deepnote_index_column": 26
                },
                {
                  "bitcoin_address": "1Hs57krdQygFJ7En2a25yXhqo743wVYZGJ",
                  "amount": "¥9296.20",
                  "date": "24-Aug-2020",
                  "time": "6:19:16 PM",
                  "time_zone": "Europe/Paris",
                  "purchase_app": "Sonair",
                  "category": "Clothing",
                  "time_offset": -6,
                  "_deepnote_index_column": 27
                },
                {
                  "bitcoin_address": "1HMerTzVYZ7Zfg146SEN1yFhGEFoAvYxmm",
                  "amount": "$1756.61",
                  "date": "26-Nov-2020",
                  "time": "12:35:34 AM",
                  "time_zone": "America/Lima",
                  "purchase_app": "Andalax",
                  "category": "Movies",
                  "time_offset": -1,
                  "_deepnote_index_column": 28
                },
                {
                  "bitcoin_address": "12kiq1UUw6aBgnGZBMFZaW7hDbH51uA4A6",
                  "amount": "£7841.76",
                  "date": "21-Oct-2020",
                  "time": "8:01:28 PM",
                  "time_zone": "America/Phoenix",
                  "purchase_app": "Stim",
                  "category": "Jewelery",
                  "time_offset": 11,
                  "_deepnote_index_column": 29
                },
                {
                  "bitcoin_address": "15u6ye1CeBpA4jK8Jj7Emd5EqppLYDHq3L",
                  "amount": "nan",
                  "date": "07-May-2020",
                  "time": "9:23:08 AM",
                  "time_zone": "Asia/Jakarta",
                  "purchase_app": "Wrapsafe",
                  "category": "Tools",
                  "time_offset": 10,
                  "_deepnote_index_column": 30
                },
                {
                  "bitcoin_address": "1LtYQuDJ1aSv2hGgAY1KjqY53WwFeo5Vk8",
                  "amount": "nan",
                  "date": "11-Feb-2021",
                  "time": "5:46:25 AM",
                  "time_zone": "Europe/Bucharest",
                  "purchase_app": "Bitchip",
                  "category": "Movies",
                  "time_offset": 5,
                  "_deepnote_index_column": 31
                },
                {
                  "bitcoin_address": "1LR7kKhG858oLMuPrttKpg3grBUW5qmgzQ",
                  "amount": "¥8190.66",
                  "date": "01-Dec-2020",
                  "time": "10:17:44 PM",
                  "time_zone": "Europe/Lisbon",
                  "purchase_app": "Toughjoyfax",
                  "category": "Movies",
                  "time_offset": 2,
                  "_deepnote_index_column": 32
                },
                {
                  "bitcoin_address": "1KGBbMgpZqi6mvMh42k7evTXRRxJQp8tzc",
                  "amount": "$421.60",
                  "date": "24-Feb-2021",
                  "time": "8:32:47 AM",
                  "time_zone": "America/New_York",
                  "purchase_app": "Bitchip",
                  "category": "nan",
                  "time_offset": -1,
                  "_deepnote_index_column": 33
                },
                {
                  "bitcoin_address": "1K5WpWyZv57k24SNC9uZzW1fp2mPy8tYW9",
                  "amount": "¥9288.08",
                  "date": "31-Dec-2020",
                  "time": "12:37:17 AM",
                  "time_zone": "Europe/Lisbon",
                  "purchase_app": "Toughjoyfax",
                  "category": "Beauty",
                  "time_offset": 2,
                  "_deepnote_index_column": 34
                },
                {
                  "bitcoin_address": "1MPvv9jF1LN9TvVf5qm9QMkfY3BgUo55aQ",
                  "amount": "€3315,48",
                  "date": "16-Jul-2020",
                  "time": "7:37:33 AM",
                  "time_zone": "Europe/Sofia",
                  "purchase_app": "Rank",
                  "category": "Automotive",
                  "time_offset": 3,
                  "_deepnote_index_column": 35
                },
                {
                  "bitcoin_address": "14A7xJxWgMatvjzpDGBDxKwLkdEimv4T8f",
                  "amount": "£95.60",
                  "date": "07-Sep-2020",
                  "time": "2:07:03 PM",
                  "time_zone": "Asia/Aden",
                  "purchase_app": "Temp",
                  "category": "Tools",
                  "time_offset": -11,
                  "_deepnote_index_column": 36
                },
                {
                  "bitcoin_address": "1BtgPNHNxAHSHzo6GKcSe7GjLL5pq4tSw",
                  "amount": "¥2414.82",
                  "date": "24-Jan-2021",
                  "time": "12:47:46 PM",
                  "time_zone": "America/Lima",
                  "purchase_app": "Bitchip",
                  "category": "Shoes",
                  "time_offset": -1,
                  "_deepnote_index_column": 37
                },
                {
                  "bitcoin_address": "14nPTcNhJf51n4THb9WrJMU9tWVYUtrCaW",
                  "amount": "£2118.75",
                  "date": "30-Aug-2020",
                  "time": "4:24:30 AM",
                  "time_zone": "Europe/Berlin",
                  "purchase_app": "Lotstring",
                  "category": "Kids",
                  "time_offset": -2,
                  "_deepnote_index_column": 38
                },
                {
                  "bitcoin_address": "1rQwgY5Q2NykkjsTmmU6f6BswNzf7VJxq",
                  "amount": "€5628,89",
                  "date": "15-Jun-2020",
                  "time": "5:46:10 AM",
                  "time_zone": "Africa/Niamey",
                  "purchase_app": "Voyatouch",
                  "category": "Jewelery",
                  "time_offset": -5,
                  "_deepnote_index_column": 39
                },
                {
                  "bitcoin_address": "1Hh7XmstSTxLGs2uoC7n2D4USbrT9AtfgF",
                  "amount": "£7035.26",
                  "date": "28-Oct-2020",
                  "time": "12:47:53 AM",
                  "time_zone": "Europe/Lisbon",
                  "purchase_app": "Latlux",
                  "category": "Automotive",
                  "time_offset": 2,
                  "_deepnote_index_column": 40
                },
                {
                  "bitcoin_address": "1EhanWHmEPsP2mrtoTTorFC15Lp9PVJQPD",
                  "amount": "$2790.60",
                  "date": "19-Jun-2020",
                  "time": "6:14:11 AM",
                  "time_zone": "Asia/Manila",
                  "purchase_app": "Voltsillam",
                  "category": "Grocery",
                  "time_offset": -6,
                  "_deepnote_index_column": 41
                },
                {
                  "bitcoin_address": "1DcMPZCwZQBdkyoK1LuExH26CMc28cYvLZ",
                  "amount": "¥3884.59",
                  "date": "29-Jul-2020",
                  "time": "6:06:10 PM",
                  "time_zone": "Asia/Manila",
                  "purchase_app": "Cardguard",
                  "category": "Shoes",
                  "time_offset": -6,
                  "_deepnote_index_column": 42
                },
                {
                  "bitcoin_address": "15Rd7KhafwvZWtxCjGjT9rLrn5Ri2Fq7tQ",
                  "amount": "£7776.89",
                  "date": "06-Mar-2021",
                  "time": "7:27:12 AM",
                  "time_zone": "Asia/Kuching",
                  "purchase_app": "Konklux",
                  "category": "Music",
                  "time_offset": -9,
                  "_deepnote_index_column": 43
                },
                {
                  "bitcoin_address": "12ZBiCVh5URVWsfV3Kcp8QN9HUWdQdQ45W",
                  "amount": "$6233.74",
                  "date": "20-Dec-2020",
                  "time": "3:35:55 AM",
                  "time_zone": "Asia/Harbin",
                  "purchase_app": "Konklux",
                  "category": "Home",
                  "time_offset": 4,
                  "_deepnote_index_column": 44
                },
                {
                  "bitcoin_address": "13TssnLdS3r8NWyuVyePosYuieNYPGkwmC",
                  "amount": "$7375.72",
                  "date": "10-Apr-2020",
                  "time": "3:41:20 PM",
                  "time_zone": "Asia/Chongqing",
                  "purchase_app": "Kanlam",
                  "category": "Clothing",
                  "time_offset": 2,
                  "_deepnote_index_column": 45
                },
                {
                  "bitcoin_address": "1K3qKyx3ju4DW4VFx1LdmvFyQN9kQaNc2S",
                  "amount": "¥7520.96",
                  "date": "28-Jun-2020",
                  "time": "12:05:17 PM",
                  "time_zone": "Asia/Dushanbe",
                  "purchase_app": "Veribet",
                  "category": "Baby",
                  "time_offset": -4,
                  "_deepnote_index_column": 46
                },
                {
                  "bitcoin_address": "1PyLaqsnTdEaoGueQzutL3heB34yNC3AtB",
                  "amount": "$7717.75",
                  "date": "30-Jan-2021",
                  "time": "2:24:51 AM",
                  "time_zone": "Asia/Harbin",
                  "purchase_app": "Bigtax",
                  "category": "Outdoors",
                  "time_offset": 4,
                  "_deepnote_index_column": 47
                },
                {
                  "bitcoin_address": "15pMy3TXZWHhiLqxHSADB1qtAkeEbx5Uig",
                  "amount": "$3741.37",
                  "date": "24-Nov-2020",
                  "time": "nan",
                  "time_zone": "Asia/Kathmandu",
                  "purchase_app": "Otcom",
                  "category": "Shoes",
                  "time_offset": 6,
                  "_deepnote_index_column": 48
                },
                {
                  "bitcoin_address": "1Diwzjr74AETWuKXX39spVb14FKwzx2yvv",
                  "amount": "$1067.58",
                  "date": "03-Mar-2021",
                  "time": "7:51:07 AM",
                  "time_zone": "America/Regina",
                  "purchase_app": "Andalax",
                  "category": "nan",
                  "time_offset": -2,
                  "_deepnote_index_column": 49
                },
                {
                  "bitcoin_address": "1J9GjTJ7fA8YJXHRwJJXyXQAbbScW4xk4u",
                  "amount": "€3042,05",
                  "date": "28-Aug-2020",
                  "time": "11:06:24 PM",
                  "time_zone": "Asia/Baku",
                  "purchase_app": "It",
                  "category": "Baby",
                  "time_offset": -7,
                  "_deepnote_index_column": 50
                },
                {
                  "bitcoin_address": "12kiq1UUw6aBgnGZBMFZaW7hDbH51uA4A6",
                  "amount": "$5580.62",
                  "date": "06-Feb-2021",
                  "time": "11:53:55 AM",
                  "time_zone": "Africa/Kampala",
                  "purchase_app": "Y-find",
                  "category": "Home",
                  "time_offset": 1,
                  "_deepnote_index_column": 51
                },
                {
                  "bitcoin_address": "18xrGzvBuSxGtaYeWNjiRzQn1qfW7giaXY",
                  "amount": "£4894.70",
                  "date": "09-Jan-2021",
                  "time": "nan",
                  "time_zone": "Asia/Harbin",
                  "purchase_app": "Andalax",
                  "category": "Music",
                  "time_offset": 4,
                  "_deepnote_index_column": 52
                },
                {
                  "bitcoin_address": "1CzbeXKiKSbUJjeEYY9WbgjLBTMQ65rEwJ",
                  "amount": "£2874.56",
                  "date": "07-Feb-2021",
                  "time": "nan",
                  "time_zone": "America/New_York",
                  "purchase_app": "Y-find",
                  "category": "Computers",
                  "time_offset": -1,
                  "_deepnote_index_column": 53
                },
                {
                  "bitcoin_address": "1ATRnsgY9qXChPLAjxWERCCxWCZ6tgS8Zb",
                  "amount": "€2193,56",
                  "date": "04-Mar-2021",
                  "time": "4:49:58 AM",
                  "time_zone": "Europe/Vienna",
                  "purchase_app": "Zamit",
                  "category": "nan",
                  "time_offset": -6,
                  "_deepnote_index_column": 54
                },
                {
                  "bitcoin_address": "1NJGgbVy2SeVeYptChcrnYdwUXh8DgUDR8",
                  "amount": "$5705.44",
                  "date": "15-Aug-2020",
                  "time": "9:33:49 AM",
                  "time_zone": "Europe/Prague",
                  "purchase_app": "Voltsillam",
                  "category": "Clothing",
                  "time_offset": -2,
                  "_deepnote_index_column": 55
                },
                {
                  "bitcoin_address": "18ok74R1XFA9ygS2PsdyXBGJJP2AVSke8S",
                  "amount": "$6289.81",
                  "date": "21-Mar-2020",
                  "time": "4:25:20 PM",
                  "time_zone": "Africa/Freetown",
                  "purchase_app": "Bytecard",
                  "category": "nan",
                  "time_offset": 1,
                  "_deepnote_index_column": 56
                },
                {
                  "bitcoin_address": "1NttLNueoDhW83Dk9jukz6N1GaBAHMKUWP",
                  "amount": "€9345,31",
                  "date": "27-Nov-2020",
                  "time": "12:13:43 AM",
                  "time_zone": "Asia/Almaty",
                  "purchase_app": "Prodder",
                  "category": "nan",
                  "time_offset": 8,
                  "_deepnote_index_column": 57
                },
                {
                  "bitcoin_address": "1FPCB958z6vxrkWUruHjPHLQu3FqM9jGYH",
                  "amount": "€8924,08",
                  "date": "06-Apr-2020",
                  "time": "4:20:13 PM",
                  "time_zone": "Asia/Makassar",
                  "purchase_app": "Bitwolf",
                  "category": "Outdoors",
                  "time_offset": -8,
                  "_deepnote_index_column": 58
                },
                {
                  "bitcoin_address": "1DcMPZCwZQBdkyoK1LuExH26CMc28cYvLZ",
                  "amount": "£3186.69",
                  "date": "11-Jun-2020",
                  "time": "nan",
                  "time_zone": "Africa/Accra",
                  "purchase_app": "Tin",
                  "category": "nan",
                  "time_offset": -7,
                  "_deepnote_index_column": 59
                },
                {
                  "bitcoin_address": "12Wg9evS5LtDSHJawo1qRiogdoQx6DEsDj",
                  "amount": "£6531.64",
                  "date": "08-Jul-2020",
                  "time": "11:36:21 PM",
                  "time_zone": "Europe/Belgrade",
                  "purchase_app": "Matsoft",
                  "category": "nan",
                  "time_offset": -5,
                  "_deepnote_index_column": 60
                },
                {
                  "bitcoin_address": "1G3YhuWgUpWZJ6FnffkFXnYWhfUpmYPjmC",
                  "amount": "€3408,68",
                  "date": "15-Aug-2020",
                  "time": "8:14:28 PM",
                  "time_zone": "Europe/Oslo",
                  "purchase_app": "It",
                  "category": "nan",
                  "time_offset": 5,
                  "_deepnote_index_column": 61
                }
              ],
              "rows_bottom": [
                {
                  "bitcoin_address": "19DjxBoRX8MUhyo4r4ZN9eFC51gSahcYSD",
                  "amount": "£6058.50",
                  "date": "24-Mar-2020",
                  "time": "4:30:34 AM",
                  "time_zone": "Asia/Shanghai",
                  "purchase_app": "Stringtough",
                  "category": "nan",
                  "time_offset": "-3.0",
                  "_deepnote_index_column": 597
                },
                {
                  "bitcoin_address": "1D8pT5UiFmmqsGR7HCk984GidHPnTn6Bpx",
                  "amount": "€7898,09",
                  "date": "17-Jan-2021",
                  "time": "11:53:06 AM",
                  "time_zone": "Pacific/Tahiti",
                  "purchase_app": "Stringtough",
                  "category": "Baby",
                  "time_offset": "-1.0",
                  "_deepnote_index_column": 598
                },
                {
                  "bitcoin_address": "17EVwP6kM3BprMGz5goSBVdak65T5NUYWV",
                  "amount": "£7593.72",
                  "date": "18-Dec-2020",
                  "time": "5:51:24 AM",
                  "time_zone": "Asia/Jakarta",
                  "purchase_app": "Bitwolf",
                  "category": "Baby",
                  "time_offset": "10.0",
                  "_deepnote_index_column": 599
                },
                {
                  "bitcoin_address": "19dGmnPW1RUaTciBbYVna3tXBjHXq8SbML",
                  "amount": "£9325.61",
                  "date": "05-May-2020",
                  "time": "8:30:33 AM",
                  "time_zone": "Asia/Chongqing",
                  "purchase_app": "Veribet",
                  "category": "Industrial",
                  "time_offset": "2.0",
                  "_deepnote_index_column": 600
                },
                {
                  "bitcoin_address": "1AHondGMy7SHNC6rvfhtU9rFVAAyNwxm9E",
                  "amount": "¥5844.41",
                  "date": "11-Oct-2020",
                  "time": "3:16:47 AM",
                  "time_zone": "Europe/Lisbon",
                  "purchase_app": "Fintone",
                  "category": "nan",
                  "time_offset": "2.0",
                  "_deepnote_index_column": 601
                },
                {
                  "bitcoin_address": "1GbBVhxixbCkjEbjmyecz6QGMeq6JPxdQN",
                  "amount": "$5989.93",
                  "date": "23-Feb-2021",
                  "time": "2:26:51 PM",
                  "time_zone": "Europe/Warsaw",
                  "purchase_app": "Subin",
                  "category": "Books",
                  "time_offset": "10.0",
                  "_deepnote_index_column": 602
                },
                {
                  "bitcoin_address": "1EL9vFKsKG8Ejd4KpjkcTW6ta5BZmrSihs",
                  "amount": "$3940.62",
                  "date": "08-Oct-2020",
                  "time": "2:28:23 PM",
                  "time_zone": "Asia/Manila",
                  "purchase_app": "It",
                  "category": "Music",
                  "time_offset": "-6.0",
                  "_deepnote_index_column": 603
                },
                {
                  "bitcoin_address": "1AJr9NZU3sK8UaDJhwvbVafB9UCPjpxFmb",
                  "amount": "$9555.85",
                  "date": "06-Sep-2020",
                  "time": "7:58:34 AM",
                  "time_zone": "Asia/Bangkok",
                  "purchase_app": "Viva",
                  "category": "Automotive",
                  "time_offset": "7.0",
                  "_deepnote_index_column": 604
                },
                {
                  "bitcoin_address": "1AzGL4iqVSw9LiKJaZx3opMupZdVSz2TzC",
                  "amount": "$5484.15",
                  "date": "03-Feb-2021",
                  "time": "5:13:54 PM",
                  "time_zone": "Asia/Shanghai",
                  "purchase_app": "Domainer",
                  "category": "Baby",
                  "time_offset": "-3.0",
                  "_deepnote_index_column": 605
                },
                {
                  "bitcoin_address": "1K5WpWyZv57k24SNC9uZzW1fp2mPy8tYW9",
                  "amount": "¥770.58",
                  "date": "01-Jan-2021",
                  "time": "11:45:19 AM",
                  "time_zone": "Asia/Chongqing",
                  "purchase_app": "Kanlam",
                  "category": "Toys",
                  "time_offset": "2.0",
                  "_deepnote_index_column": 606
                },
                {
                  "bitcoin_address": "1BJc14ZnVPhBXq8erS4CPup2iBj5B1h61G",
                  "amount": "£2494.76",
                  "date": "09-May-2020",
                  "time": "7:42:30 PM",
                  "time_zone": "Asia/Chongqing",
                  "purchase_app": "Flowdesk",
                  "category": "Jewelery",
                  "time_offset": "2.0",
                  "_deepnote_index_column": 607
                },
                {
                  "bitcoin_address": "1KtymHGuuJwEy6PzZ5PVmXrZEaPJcshXoJ",
                  "amount": "£6350.93",
                  "date": "10-Nov-2020",
                  "time": "5:06:15 AM",
                  "time_zone": "Asia/Jakarta",
                  "purchase_app": "Konklab",
                  "category": "Tools",
                  "time_offset": "10.0",
                  "_deepnote_index_column": 608
                },
                {
                  "bitcoin_address": "1C9RtDedeyrQpvRCsiTgUNkaGGLyFzCyAh",
                  "amount": "$9111.78",
                  "date": "10-Mar-2020",
                  "time": "11:31:52 PM",
                  "time_zone": "America/Sao_Paulo",
                  "purchase_app": "Tin",
                  "category": "Outdoors",
                  "time_offset": "-4.0",
                  "_deepnote_index_column": 609
                },
                {
                  "bitcoin_address": "16kan1K5vRJxqQFzruKHAvznV6Xfbh59w",
                  "amount": "€2680,50",
                  "date": "20-Aug-2020",
                  "time": "10:51:02 AM",
                  "time_zone": "Asia/Ulaanbaatar",
                  "purchase_app": "Bitwolf",
                  "category": "nan",
                  "time_offset": "3.0",
                  "_deepnote_index_column": 610
                },
                {
                  "bitcoin_address": "18Nmj7uDsS4dr5rN55Qw7fuxmBCLmFhvwN",
                  "amount": "€2793,49",
                  "date": "01-Jun-2020",
                  "time": "5:20:31 AM",
                  "time_zone": "Asia/Urumqi",
                  "purchase_app": "It",
                  "category": "Games",
                  "time_offset": "-7.0",
                  "_deepnote_index_column": 611
                },
                {
                  "bitcoin_address": "1Eacz2E3UcUzd4LEASsXZkH41K2SkTzyyy",
                  "amount": "£7458.18",
                  "date": "05-Oct-2020",
                  "time": "2:07:11 AM",
                  "time_zone": "America/Chicago",
                  "purchase_app": "Sonsing",
                  "category": "Tools",
                  "time_offset": "-6.0",
                  "_deepnote_index_column": 612
                },
                {
                  "bitcoin_address": "1AGSr7QkCjyYNQ8XsDCW9wN2qLYkRckUkj",
                  "amount": "$4502.75",
                  "date": "04-Jan-2021",
                  "time": "1:04:43 AM",
                  "time_zone": "Asia/Chongqing",
                  "purchase_app": "Asoka",
                  "category": "nan",
                  "time_offset": "2.0",
                  "_deepnote_index_column": 613
                },
                {
                  "bitcoin_address": "167LHkX6dbmCJjijZzHW6PtUt2nja27FF6",
                  "amount": "$1069.69",
                  "date": "04-Jul-2020",
                  "time": "4:44:25 AM",
                  "time_zone": "Asia/Shanghai",
                  "purchase_app": "Duobam",
                  "category": "Sports",
                  "time_offset": "-3.0",
                  "_deepnote_index_column": 614
                },
                {
                  "bitcoin_address": "1LorpsysmfgkrxXQxJacVsqnGETgf6c45v",
                  "amount": "£6298.50",
                  "date": "16-May-2020",
                  "time": "5:56:22 PM",
                  "time_zone": "Europe/Warsaw",
                  "purchase_app": "Fintone",
                  "category": "Health",
                  "time_offset": "10.0",
                  "_deepnote_index_column": 615
                },
                {
                  "bitcoin_address": "1MSzLPN6WuRpjeJUYSf73Myqy3TU6SNLc2",
                  "amount": "€2119,94",
                  "date": "28-Dec-2020",
                  "time": "7:14:15 AM",
                  "time_zone": "Asia/Shanghai",
                  "purchase_app": "Span",
                  "category": "Movies",
                  "time_offset": "-3.0",
                  "_deepnote_index_column": 616
                },
                {
                  "bitcoin_address": "16Aq2xkjFyt2euUBzAzo8hDdDVCgkEYKXc",
                  "amount": "£4176.41",
                  "date": "13-Apr-2020",
                  "time": "nan",
                  "time_zone": "Europe/Moscow",
                  "purchase_app": "Asoka",
                  "category": "Baby",
                  "time_offset": "-6.0",
                  "_deepnote_index_column": 617
                },
                {
                  "bitcoin_address": "1LJd6WaZEm8NVQMpp9NveNgAcmh8J54FCT",
                  "amount": "£177.41",
                  "date": "01-Jul-2020",
                  "time": "12:20:52 PM",
                  "time_zone": "Asia/Jakarta",
                  "purchase_app": "Temp",
                  "category": "Music",
                  "time_offset": "10.0",
                  "_deepnote_index_column": 618
                },
                {
                  "bitcoin_address": "1B6C9pFXRSxFL5agh87zFAUrWJrJHvKCmo",
                  "amount": "€1156,01",
                  "date": "13-Apr-2020",
                  "time": "5:46:39 AM",
                  "time_zone": "America/Sao_Paulo",
                  "purchase_app": "Lotlux",
                  "category": "nan",
                  "time_offset": "-4.0",
                  "_deepnote_index_column": 619
                },
                {
                  "bitcoin_address": "169V9PPK7aGQEceL4VX1sTghfrwRg2j1oH",
                  "amount": "£7278.91",
                  "date": "21-Jun-2020",
                  "time": "2:53:51 AM",
                  "time_zone": "Europe/Stockholm",
                  "purchase_app": "Holdlamis",
                  "category": "Outdoors",
                  "time_offset": "-6.0",
                  "_deepnote_index_column": 620
                },
                {
                  "bitcoin_address": "1MdiXkN9oirzDDJRVy3FTCQgNsoD56jWbF",
                  "amount": "¥8281.65",
                  "date": "23-Mar-2020",
                  "time": "11:05:32 AM",
                  "time_zone": "Europe/Stockholm",
                  "purchase_app": "Ventosanzap",
                  "category": "Sports",
                  "time_offset": "-6.0",
                  "_deepnote_index_column": 621
                },
                {
                  "bitcoin_address": "1EvEUcSHFEkeGgTW1W4G4NHao75psfghUk",
                  "amount": "¥4562.84",
                  "date": "27-Jul-2020",
                  "time": "10:26:13 AM",
                  "time_zone": "America/Costa_Rica",
                  "purchase_app": "Opela",
                  "category": "Computers",
                  "time_offset": "-4.0",
                  "_deepnote_index_column": 622
                },
                {
                  "bitcoin_address": "18t4skq5A4RUMpJyQMKKnKDSL4W2pAB6LE",
                  "amount": "$1683.29",
                  "date": "08-Apr-2020",
                  "time": "3:49:08 PM",
                  "time_zone": "Europe/Warsaw",
                  "purchase_app": "Sonsing",
                  "category": "Clothing",
                  "time_offset": "10.0",
                  "_deepnote_index_column": 623
                },
                {
                  "bitcoin_address": "1AT9ZYyoVjuWXdxRDBYKZihH9uP4ZkQJQZ",
                  "amount": "¥5704.92",
                  "date": "16-Sep-2020",
                  "time": "8:54:53 PM",
                  "time_zone": "Asia/Chongqing",
                  "purchase_app": "Fixflex",
                  "category": "Electronics",
                  "time_offset": "2.0",
                  "_deepnote_index_column": 624
                },
                {
                  "bitcoin_address": "138eKhaJ9hYPLDvaWXEWZVfbdmpMRBp6nk",
                  "amount": "€1002,94",
                  "date": "21-Oct-2020",
                  "time": "2:13:36 PM",
                  "time_zone": "America/Guayaquil",
                  "purchase_app": "Zaam-Dox",
                  "category": "Garden",
                  "time_offset": "6.0",
                  "_deepnote_index_column": 625
                },
                {
                  "bitcoin_address": "172LLBwYAH455ipQYTCxTHgpPLv1yYxQs7",
                  "amount": "¥5133.11",
                  "date": "28-Jun-2020",
                  "time": "5:38:07 PM",
                  "time_zone": "America/Sao_Paulo",
                  "purchase_app": "Duobam",
                  "category": "Electronics",
                  "time_offset": "-4.0",
                  "_deepnote_index_column": 626
                },
                {
                  "bitcoin_address": "15EAV2vJiLjz4746HSokoF4AnHyYyxz7ts",
                  "amount": "$9212.36",
                  "date": "12-Dec-2020",
                  "time": "12:35:44 PM",
                  "time_zone": "Europe/Lisbon",
                  "purchase_app": "Solarbreeze",
                  "category": "Books",
                  "time_offset": "2.0",
                  "_deepnote_index_column": 627
                },
                {
                  "bitcoin_address": "1FsYEber3L11W7UWSrtbGrzNuzTxt9xQa8",
                  "amount": "€6504,66",
                  "date": "17-Nov-2020",
                  "time": "10:53:52 AM",
                  "time_zone": "Europe/Luxembourg",
                  "purchase_app": "Stim",
                  "category": "Computers",
                  "time_offset": "-4.0",
                  "_deepnote_index_column": 628
                },
                {
                  "bitcoin_address": "15CTNNVhFuMTuHsE3Bnfh9t6bKGwZe5LMw",
                  "amount": "$4439.84",
                  "date": "25-Jun-2020",
                  "time": "5:26:09 PM",
                  "time_zone": "Asia/Hebron",
                  "purchase_app": "Zontrax",
                  "category": "Grocery",
                  "time_offset": "9.0",
                  "_deepnote_index_column": 629
                },
                {
                  "bitcoin_address": "1AJXSf9tvLZC4kF41vx93Rr41Q4Thpp19r",
                  "amount": "£6168.28",
                  "date": "10-Aug-2020",
                  "time": "1:32:08 PM",
                  "time_zone": "Europe/Paris",
                  "purchase_app": "Daltfresh",
                  "category": "nan",
                  "time_offset": "-6.0",
                  "_deepnote_index_column": 630
                },
                {
                  "bitcoin_address": "1QJ2bF8h2QLB7mVk2gkp3hoxcFdR5AYV75",
                  "amount": "€5885,59",
                  "date": "24-Jul-2020",
                  "time": "nan",
                  "time_zone": "Asia/Bangkok",
                  "purchase_app": "Job",
                  "category": "Movies",
                  "time_offset": "7.0",
                  "_deepnote_index_column": 631
                },
                {
                  "bitcoin_address": "16kvgpcFGLipQphodCDy22g4pkkoX585ds",
                  "amount": "€685,14",
                  "date": "06-Jan-2021",
                  "time": "8:56:41 AM",
                  "time_zone": "Europe/Paris",
                  "purchase_app": "Subin",
                  "category": "Health",
                  "time_offset": "-6.0",
                  "_deepnote_index_column": 632
                },
                {
                  "bitcoin_address": "1MGP31dRA2SwBeCoqYgS9d6AJjjViGwpfU",
                  "amount": "$1773.96",
                  "date": "02-Aug-2020",
                  "time": "10:25:00 AM",
                  "time_zone": "Asia/Jakarta",
                  "purchase_app": "Ventosanzap",
                  "category": "Sports",
                  "time_offset": "10.0",
                  "_deepnote_index_column": 633
                },
                {
                  "bitcoin_address": "1LtYQuDJ1aSv2hGgAY1KjqY53WwFeo5Vk8",
                  "amount": "£8785.36",
                  "date": "24-Apr-2020",
                  "time": "5:52:12 AM",
                  "time_zone": "Asia/Yekaterinburg",
                  "purchase_app": "Tampflex",
                  "category": "Toys",
                  "time_offset": "11.0",
                  "_deepnote_index_column": 634
                },
                {
                  "bitcoin_address": "1GLb7c4p2WU1QqceR3PPXHsRWUF8HbPuu1",
                  "amount": "£3465.09",
                  "date": "18-Oct-2020",
                  "time": "10:06:46 AM",
                  "time_zone": "Europe/Belgrade",
                  "purchase_app": "Treeflex",
                  "category": "Music",
                  "time_offset": "-5.0",
                  "_deepnote_index_column": 635
                },
                {
                  "bitcoin_address": "1Len4LzJ8JYd37hGxE3ru6zQM4xoAmp4Dr",
                  "amount": "€9270,27",
                  "date": "31-Aug-2020",
                  "time": "12:48:56 PM",
                  "time_zone": "Africa/Luanda",
                  "purchase_app": "Job",
                  "category": "Health",
                  "time_offset": "-11.0",
                  "_deepnote_index_column": 636
                },
                {
                  "bitcoin_address": "1AJXSf9tvLZC4kF41vx93Rr41Q4Thpp19r",
                  "amount": "¥4096.16",
                  "date": "26-Aug-2020",
                  "time": "11:51:21 AM",
                  "time_zone": "Europe/Helsinki",
                  "purchase_app": "Matsoft",
                  "category": "Electronics",
                  "time_offset": "7.0",
                  "_deepnote_index_column": 637
                },
                {
                  "bitcoin_address": "1KKmNh9fcNYoRp4oYaYjVZtxmcFNfC4H6y",
                  "amount": "$9407.58",
                  "date": "14-Mar-2020",
                  "time": "11:31:36 PM",
                  "time_zone": "Europe/Prague",
                  "purchase_app": "Andalax",
                  "category": "Industrial",
                  "time_offset": "-2.0",
                  "_deepnote_index_column": 638
                },
                {
                  "bitcoin_address": "1L3cBsEo6wzcj5aHJWGmXm6A4k8gB7xcQr",
                  "amount": "£9142.53",
                  "date": "03-Jun-2020",
                  "time": "nan",
                  "time_zone": "America/Chicago",
                  "purchase_app": "Daltfresh",
                  "category": "Books",
                  "time_offset": "-6.0",
                  "_deepnote_index_column": 639
                },
                {
                  "bitcoin_address": "1tWHi856LLxFBefgimuQK7qB8KhUPUU6h",
                  "amount": "£1455.91",
                  "date": "18-Jun-2020",
                  "time": "12:51:35 AM",
                  "time_zone": "Asia/Jakarta",
                  "purchase_app": "Namfix",
                  "category": "nan",
                  "time_offset": "10.0",
                  "_deepnote_index_column": 640
                },
                {
                  "bitcoin_address": "1MGP31dRA2SwBeCoqYgS9d6AJjjViGwpfU",
                  "amount": "€5751,30",
                  "date": "13-Feb-2021",
                  "time": "nan",
                  "time_zone": "Europe/Lisbon",
                  "purchase_app": "Wrapsafe",
                  "category": "Kids",
                  "time_offset": "2.0",
                  "_deepnote_index_column": 641
                },
                {
                  "bitcoin_address": "1GMASu65kkSoBPJkpW4r2QZqGis3meTfAJ",
                  "amount": "£1037.58",
                  "date": "19-Sep-2020",
                  "time": "nan",
                  "time_zone": "Asia/Chongqing",
                  "purchase_app": "Cardguard",
                  "category": "Industrial",
                  "time_offset": "2.0",
                  "_deepnote_index_column": 642
                },
                {
                  "bitcoin_address": "1NeVkfGuvsh2QdggwDve93Cb8ipgUhaUfA",
                  "amount": "€3072,09",
                  "date": "27-Oct-2020",
                  "time": "2:21:31 AM",
                  "time_zone": "America/Bahia",
                  "purchase_app": "Konklux",
                  "category": "Kids",
                  "time_offset": "-8.0",
                  "_deepnote_index_column": 643
                },
                {
                  "bitcoin_address": "1brn6x8APKnZfhTqmJHqkLyrhdmWp3fyu",
                  "amount": "¥6811.74",
                  "date": "28-Jun-2020",
                  "time": "6:43:24 PM",
                  "time_zone": "Asia/Kuala_Lumpur",
                  "purchase_app": "Mat Lam Tam",
                  "category": "Clothing",
                  "time_offset": "-3.0",
                  "_deepnote_index_column": 644
                },
                {
                  "bitcoin_address": "1DpciTAj3xXM3dHXiGFR5VT8Sa2upfaVDb",
                  "amount": "¥8956.38",
                  "date": "14-Nov-2020",
                  "time": "6:08:18 PM",
                  "time_zone": "Asia/Yakutsk",
                  "purchase_app": "Ronstring",
                  "category": "Automotive",
                  "time_offset": "0.0",
                  "_deepnote_index_column": 645
                },
                {
                  "bitcoin_address": "1GdeQzAFwo6uDru2vc6sLTH7xaX2pcDbDM",
                  "amount": "$1520.04",
                  "date": "11-Dec-2020",
                  "time": "11:17:23 PM",
                  "time_zone": "Asia/Jakarta",
                  "purchase_app": "Rank",
                  "category": "Industrial",
                  "time_offset": "10.0",
                  "_deepnote_index_column": 646
                },
                {
                  "bitcoin_address": "13ZZoohGiuX483tXgND2bhD42v7ETg3pcz",
                  "amount": "¥1366.11",
                  "date": "21-Jan-2021",
                  "time": "3:43:14 PM",
                  "time_zone": "Asia/Manila",
                  "purchase_app": "Alpha",
                  "category": "Books",
                  "time_offset": "-6.0",
                  "_deepnote_index_column": 647
                },
                {
                  "bitcoin_address": "1MwxzcfVb1bgM36AJKcpsGaecswBcgGLsd",
                  "amount": "£7591.96",
                  "date": "05-Jan-2021",
                  "time": "5:06:39 AM",
                  "time_zone": "Europe/Stockholm",
                  "purchase_app": "Veribet",
                  "category": "Toys",
                  "time_offset": "-6.0",
                  "_deepnote_index_column": 648
                },
                {
                  "bitcoin_address": "1i86NCo4dHzuaBVq8SPaQTxBPwmGzu7cK",
                  "amount": "$819.74",
                  "date": "03-Dec-2020",
                  "time": "4:42:25 PM",
                  "time_zone": "Asia/Chongqing",
                  "purchase_app": "Sonsing",
                  "category": "Music",
                  "time_offset": "2.0",
                  "_deepnote_index_column": 649
                },
                {
                  "bitcoin_address": "1GnesyGWWrk3aR2GijR65Re1UnErECtNDL",
                  "amount": "¥6561.41",
                  "date": "12-Sep-2020",
                  "time": "10:18:14 PM",
                  "time_zone": "America/Rio_Branco",
                  "purchase_app": "Sub-Ex",
                  "category": "Grocery",
                  "time_offset": "4.0",
                  "_deepnote_index_column": 650
                },
                {
                  "bitcoin_address": "1AknKkbcgUpnGULeTsrmDjCeSmNorEhQp2",
                  "amount": "£2834.96",
                  "date": "16-Mar-2020",
                  "time": "2:04:34 AM",
                  "time_zone": "Asia/Manila",
                  "purchase_app": "Bamity",
                  "category": "Shoes",
                  "time_offset": "-6.0",
                  "_deepnote_index_column": 651
                },
                {
                  "bitcoin_address": "16EiidiFKefVNK7NeG42S7uL39JKx7yvbu",
                  "amount": "€1057,20",
                  "date": "14-Aug-2020",
                  "time": "nan",
                  "time_zone": "Asia/Jakarta",
                  "purchase_app": "Latlux",
                  "category": "Sports",
                  "time_offset": "10.0",
                  "_deepnote_index_column": 652
                },
                {
                  "bitcoin_address": "1Py3qKx3MjeBMi5uVGg4xgnv3XFTrRCoQC",
                  "amount": "£9299.86",
                  "date": "26-Apr-2020",
                  "time": "9:42:57 AM",
                  "time_zone": "America/Los_Angeles",
                  "purchase_app": "Sonsing",
                  "category": "Home",
                  "time_offset": "-3.0",
                  "_deepnote_index_column": 653
                },
                {
                  "bitcoin_address": "128U1g2PhYQfDHe9DoimGgnXADbkkzFLpv",
                  "amount": "¥3683.45",
                  "date": "30-Apr-2020",
                  "time": "4:24:08 AM",
                  "time_zone": "Asia/Chongqing",
                  "purchase_app": "Asoka",
                  "category": "Health",
                  "time_offset": "2.0",
                  "_deepnote_index_column": 654
                },
                {
                  "bitcoin_address": "1Gyf2xz1SAJmtz7H9DVHLfk72arD434SSE",
                  "amount": "¥1900.64",
                  "date": "03-Dec-2020",
                  "time": "7:45:30 AM",
                  "time_zone": "Africa/Blantyre",
                  "purchase_app": "Veribet",
                  "category": "Beauty",
                  "time_offset": "9.0",
                  "_deepnote_index_column": 655
                },
                {
                  "bitcoin_address": "12VrC5atYzdAJjzyZXQ7GxeyxCi56bZw71",
                  "amount": "€238,15",
                  "date": "07-Oct-2020",
                  "time": "11:31:51 AM",
                  "time_zone": "Asia/Kuala_Lumpur",
                  "purchase_app": "Treeflex",
                  "category": "Garden",
                  "time_offset": "-3.0",
                  "_deepnote_index_column": 656
                },
                {
                  "bitcoin_address": "1B3TDkUvRXdVmu1Nan35qVKtXuj2rY4Tr7",
                  "amount": "¥6550.33",
                  "date": "16-Oct-2020",
                  "time": "12:34:44 AM",
                  "time_zone": "Europe/Lisbon",
                  "purchase_app": "Lotlux",
                  "category": "Industrial",
                  "time_offset": "2.0",
                  "_deepnote_index_column": 657
                },
                {
                  "bitcoin_address": "1JExYVkQH17mjs6y42onSSBTGELymH6GL",
                  "amount": "£1379.11",
                  "date": "15-Oct-2020",
                  "time": "nan",
                  "time_zone": "Asia/Chongqing",
                  "purchase_app": "Mat Lam Tam",
                  "category": "Electronics",
                  "time_offset": "2.0",
                  "_deepnote_index_column": 658
                },
                {
                  "bitcoin_address": "1Ep9iBpAqiupY3r81yAKiNpJLg4LN665ML",
                  "amount": "¥102.83",
                  "date": "31-Aug-2020",
                  "time": "6:10:40 PM",
                  "time_zone": "Europe/Za",
                  "purchase_app": "nan",
                  "category": "nan",
                  "time_offset": "nan",
                  "_deepnote_index_column": 659
                }
              ]
            },
            "text/plain": "                        bitcoin_address    amount         date         time  \\\n0    13q3QxRNsksDNdVhRJnQMb8WLxnH2RqW4A  €8605,56  19-Oct-2020  11:12:56 PM   \n1    1HDSWNybswRtsFFGLFxAQrRzkvssT3NNaR  €2019,11  28-Dec-2020   9:43:06 PM   \n2    12kiq1UUw6aBgnGZBMFZaW7hDbH51uA4A6  €9984,66  26-Nov-2020   5:56:19 PM   \n3    1EXyq8wdLhZcDECocKDGZ7aCq6RmETeYJb  €5709,95  03-Jun-2020   7:38:22 PM   \n4    15mp1C8hQeZ8gU5cqT61YBevptAtsjdWZQ  £5149.41  18-Sep-2020   8:57:58 PM   \n..                                  ...       ...          ...          ...   \n655  1Gyf2xz1SAJmtz7H9DVHLfk72arD434SSE  ¥1900.64  03-Dec-2020   7:45:30 AM   \n656  12VrC5atYzdAJjzyZXQ7GxeyxCi56bZw71   €238,15  07-Oct-2020  11:31:51 AM   \n657  1B3TDkUvRXdVmu1Nan35qVKtXuj2rY4Tr7  ¥6550.33  16-Oct-2020  12:34:44 AM   \n658   1JExYVkQH17mjs6y42onSSBTGELymH6GL  £1379.11  15-Oct-2020          NaN   \n659  1Ep9iBpAqiupY3r81yAKiNpJLg4LN665ML   ¥102.83  31-Aug-2020   6:10:40 PM   \n\n             time_zone purchase_app     category  time_offset  \n0        Europe/Warsaw         Stim        Music         10.0  \n1        Asia/Shanghai     Treeflex          NaN         -3.0  \n2          Asia/Harbin      Konklab   Industrial          4.0  \n3          Asia/Tehran        Otcom       Beauty         -4.0  \n4          Europe/Kiev      Veribet          NaN          2.0  \n..                 ...          ...          ...          ...  \n655    Africa/Blantyre      Veribet       Beauty          9.0  \n656  Asia/Kuala_Lumpur     Treeflex       Garden         -3.0  \n657      Europe/Lisbon       Lotlux   Industrial          2.0  \n658     Asia/Chongqing  Mat Lam Tam  Electronics          2.0  \n659          Europe/Za          NaN          NaN          NaN  \n\n[660 rows x 8 columns]",
            "text/html": "<div>\n<style scoped>\n    .dataframe tbody tr th:only-of-type {\n        vertical-align: middle;\n    }\n\n    .dataframe tbody tr th {\n        vertical-align: top;\n    }\n\n    .dataframe thead th {\n        text-align: right;\n    }\n</style>\n<table border=\"1\" class=\"dataframe\">\n  <thead>\n    <tr style=\"text-align: right;\">\n      <th></th>\n      <th>bitcoin_address</th>\n      <th>amount</th>\n      <th>date</th>\n      <th>time</th>\n      <th>time_zone</th>\n      <th>purchase_app</th>\n      <th>category</th>\n      <th>time_offset</th>\n    </tr>\n  </thead>\n  <tbody>\n    <tr>\n      <th>0</th>\n      <td>13q3QxRNsksDNdVhRJnQMb8WLxnH2RqW4A</td>\n      <td>€8605,56</td>\n      <td>19-Oct-2020</td>\n      <td>11:12:56 PM</td>\n      <td>Europe/Warsaw</td>\n      <td>Stim</td>\n      <td>Music</td>\n      <td>10.0</td>\n    </tr>\n    <tr>\n      <th>1</th>\n      <td>1HDSWNybswRtsFFGLFxAQrRzkvssT3NNaR</td>\n      <td>€2019,11</td>\n      <td>28-Dec-2020</td>\n      <td>9:43:06 PM</td>\n      <td>Asia/Shanghai</td>\n      <td>Treeflex</td>\n      <td>NaN</td>\n      <td>-3.0</td>\n    </tr>\n    <tr>\n      <th>2</th>\n      <td>12kiq1UUw6aBgnGZBMFZaW7hDbH51uA4A6</td>\n      <td>€9984,66</td>\n      <td>26-Nov-2020</td>\n      <td>5:56:19 PM</td>\n      <td>Asia/Harbin</td>\n      <td>Konklab</td>\n      <td>Industrial</td>\n      <td>4.0</td>\n    </tr>\n    <tr>\n      <th>3</th>\n      <td>1EXyq8wdLhZcDECocKDGZ7aCq6RmETeYJb</td>\n      <td>€5709,95</td>\n      <td>03-Jun-2020</td>\n      <td>7:38:22 PM</td>\n      <td>Asia/Tehran</td>\n      <td>Otcom</td>\n      <td>Beauty</td>\n      <td>-4.0</td>\n    </tr>\n    <tr>\n      <th>4</th>\n      <td>15mp1C8hQeZ8gU5cqT61YBevptAtsjdWZQ</td>\n      <td>£5149.41</td>\n      <td>18-Sep-2020</td>\n      <td>8:57:58 PM</td>\n      <td>Europe/Kiev</td>\n      <td>Veribet</td>\n      <td>NaN</td>\n      <td>2.0</td>\n    </tr>\n    <tr>\n      <th>...</th>\n      <td>...</td>\n      <td>...</td>\n      <td>...</td>\n      <td>...</td>\n      <td>...</td>\n      <td>...</td>\n      <td>...</td>\n      <td>...</td>\n    </tr>\n    <tr>\n      <th>655</th>\n      <td>1Gyf2xz1SAJmtz7H9DVHLfk72arD434SSE</td>\n      <td>¥1900.64</td>\n      <td>03-Dec-2020</td>\n      <td>7:45:30 AM</td>\n      <td>Africa/Blantyre</td>\n      <td>Veribet</td>\n      <td>Beauty</td>\n      <td>9.0</td>\n    </tr>\n    <tr>\n      <th>656</th>\n      <td>12VrC5atYzdAJjzyZXQ7GxeyxCi56bZw71</td>\n      <td>€238,15</td>\n      <td>07-Oct-2020</td>\n      <td>11:31:51 AM</td>\n      <td>Asia/Kuala_Lumpur</td>\n      <td>Treeflex</td>\n      <td>Garden</td>\n      <td>-3.0</td>\n    </tr>\n    <tr>\n      <th>657</th>\n      <td>1B3TDkUvRXdVmu1Nan35qVKtXuj2rY4Tr7</td>\n      <td>¥6550.33</td>\n      <td>16-Oct-2020</td>\n      <td>12:34:44 AM</td>\n      <td>Europe/Lisbon</td>\n      <td>Lotlux</td>\n      <td>Industrial</td>\n      <td>2.0</td>\n    </tr>\n    <tr>\n      <th>658</th>\n      <td>1JExYVkQH17mjs6y42onSSBTGELymH6GL</td>\n      <td>£1379.11</td>\n      <td>15-Oct-2020</td>\n      <td>NaN</td>\n      <td>Asia/Chongqing</td>\n      <td>Mat Lam Tam</td>\n      <td>Electronics</td>\n      <td>2.0</td>\n    </tr>\n    <tr>\n      <th>659</th>\n      <td>1Ep9iBpAqiupY3r81yAKiNpJLg4LN665ML</td>\n      <td>¥102.83</td>\n      <td>31-Aug-2020</td>\n      <td>6:10:40 PM</td>\n      <td>Europe/Za</td>\n      <td>NaN</td>\n      <td>NaN</td>\n      <td>NaN</td>\n    </tr>\n  </tbody>\n</table>\n<p>660 rows × 8 columns</p>\n</div>"
          },
          "metadata": {}
        }
      ]
    },
    {
      "cell_type": "markdown",
      "source": "<a style='text-decoration:none;line-height:16px;display:flex;color:#5B5B62;padding:10px;justify-content:end;' href='https://deepnote.com?utm_source=created-in-deepnote-cell&projectId=4b899bc4-47db-49d1-afe8-5e169e10f438' target=\"_blank\">\n<img style='display:inline;max-height:16px;margin:0px;margin-right:7.5px;' src='data:image/svg+xml;base64,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' > </img>\nCreated in <span style='font-weight:600;margin-left:4px;'>Deepnote</span></a>",
      "metadata": {
        "tags": [],
        "created_in_deepnote_cell": true,
        "deepnote_cell_type": "markdown"
      }
    }
  ],
  "nbformat": 4,
  "nbformat_minor": 2,
  "metadata": {
    "orig_nbformat": 2,
    "deepnote_notebook_id": "657117b2-6f85-40e7-95e2-18eb8a848f88",
    "deepnote": {},
    "deepnote_execution_queue": []
  }
}